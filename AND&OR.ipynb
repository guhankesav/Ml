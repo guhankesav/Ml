{
  "nbformat": 4,
  "nbformat_minor": 0,
  "metadata": {
    "colab": {
      "name": "AND&OR.ipynb",
      "provenance": [],
      "include_colab_link": true
    },
    "kernelspec": {
      "name": "python3",
      "display_name": "Python 3"
    }
  },
  "cells": [
    {
      "cell_type": "markdown",
      "metadata": {
        "id": "view-in-github",
        "colab_type": "text"
      },
      "source": [
        "<a href=\"https://colab.research.google.com/github/guhankesav/Ml/blob/main/AND%26OR.ipynb\" target=\"_parent\"><img src=\"https://colab.research.google.com/assets/colab-badge.svg\" alt=\"Open In Colab\"/></a>"
      ]
    },
    {
      "cell_type": "code",
      "metadata": {
        "id": "4DHGIqj7JCZD"
      },
      "source": [
        "import matplotlib.pyplot as plt\r\n",
        "import numpy as np"
      ],
      "execution_count": null,
      "outputs": []
    },
    {
      "cell_type": "code",
      "metadata": {
        "colab": {
          "base_uri": "https://localhost:8080/",
          "height": 1000
        },
        "id": "aeLjP50TF9pY",
        "outputId": "371bea26-03a8-4f10-ce0f-145d43962bab"
      },
      "source": [
        "def Binary_Threshold(x):\r\n",
        "  if x<0:\r\n",
        "    return 0\r\n",
        "  else:\r\n",
        "    return 1\r\n",
        "\r\n",
        "def AND():\r\n",
        "  w0 = -1.5\r\n",
        "  w1 = 1\r\n",
        "  w2 = 1\r\n",
        "  x1 = [0,0,1,1]\r\n",
        "  x2 = [0,1,0,1]\r\n",
        "  q=[]\r\n",
        "  x=[]\r\n",
        "  for i in range(len(x1)):\r\n",
        "    q.append(x1[i]*w1 + x2[i]*w2 + w0)\r\n",
        "  for i in q:\r\n",
        "    x.append(Binary_Threshold(i))\r\n",
        "  print(\"INP0\\tINP1\\tQ=w1*x1+w2*x2+w0 OP\")\r\n",
        "  for i in range(len(x1)):\r\n",
        "    print(x1[i],\"\\t\",x2[i],\"\\t\",q[i],\"\\t\\t\",x[i])\r\n",
        "  Slope = -w1/w2\r\n",
        "  Intercept = -w0/w2\r\n",
        "  print('Slope: ',Slope)\r\n",
        "  print('Intercept : ',Intercept)\r\n",
        "  xs = np.arange(-2,2,0.5,dtype=float)\r\n",
        "  # ys = xs*Slope + Intercept\r\n",
        "  fig = plt.figure()\r\n",
        "  ax = fig.add_subplot(1, 1, 1)\r\n",
        "  ax.spines['left'].set_position('center')\r\n",
        "  ax.spines['bottom'].set_position('center')\r\n",
        "  plt.ylim([-2,2])\r\n",
        "  plt.xlim([-2,2])\r\n",
        "  plt.plot(xs, xs*Slope + Intercept)\r\n",
        "  plt.title('Classifier Line')\r\n",
        "  plt.show()\r\n",
        "def OR():\r\n",
        "  w0 = -0.5\r\n",
        "  w1 = 1\r\n",
        "  w2 = 1\r\n",
        "  x1 = [0,0,1,1]\r\n",
        "  x2 = [0,1,0,1]\r\n",
        "  q=[]\r\n",
        "  x=[]\r\n",
        "  for i in range(len(x1)):\r\n",
        "    q.append(x1[i]*w1 + x2[i]*w2 + w0)\r\n",
        "  for i in q:\r\n",
        "    x.append(Binary_Threshold(i))\r\n",
        "  print(\"INP0\\tINP1\\tQ=w1*x1+w2*x2+w0 OP\")\r\n",
        "  for i in range(len(x1)):\r\n",
        "    print(x1[i],\"\\t\",x2[i],\"\\t\",q[i],\"\\t\\t\",x[i])\r\n",
        "  Slope = -w1/w2\r\n",
        "  print('Slope: ',Slope)\r\n",
        "  Intercept = -w0/w2\r\n",
        "  print('Intercept : ',Intercept)\r\n",
        "  xs = np.arange(-2,2,0.5)\r\n",
        "  # ys = xs*Slope + Intercept\r\n",
        "  fig = plt.figure()\r\n",
        "  ax = fig.add_subplot(1, 1, 1)\r\n",
        "  ax.spines['left'].set_position('center')\r\n",
        "  ax.spines['bottom'].set_position('center')\r\n",
        "  plt.ylim([-2,2])\r\n",
        "  plt.xlim([-2,2])\r\n",
        "  plt.plot(xs, xs*Slope + Intercept)\r\n",
        "  plt.title('Classifier Line')\r\n",
        "  plt.show()\r\n",
        "\r\n",
        "def Main():\r\n",
        "  ch=1\r\n",
        "  while ch!=3:\r\n",
        "    print('\\n1.AND\\n2.OR\\n3.Exit')\r\n",
        "    ch = int(input())\r\n",
        "    if ch == 1:\r\n",
        "      AND()\r\n",
        "    elif ch == 2:\r\n",
        "      OR()\r\n",
        "\r\n",
        "if __name__ == '__main__':\r\n",
        "  Main()"
      ],
      "execution_count": null,
      "outputs": [
        {
          "output_type": "stream",
          "text": [
            "\n",
            "1.AND\n",
            "2.OR\n",
            "3.Exit\n",
            "1\n",
            "INP0\tINP1\tQ=w1*x1+w2*x2+w0 OP\n",
            "0 \t 0 \t -1.5 \t\t 0\n",
            "0 \t 1 \t -0.5 \t\t 0\n",
            "1 \t 0 \t -0.5 \t\t 0\n",
            "1 \t 1 \t 0.5 \t\t 1\n",
            "Slope:  -1.0\n",
            "Intercept :  1.5\n"
          ],
          "name": "stdout"
        },
        {
          "output_type": "display_data",
          "data": {
            "image/png": "[encoded data removed]",
            "text/plain": [
              "<Figure size 432x288 with 1 Axes>"
            ]
          },
          "metadata": {
            "tags": [],
            "needs_background": "light"
          }
        },
        {
          "output_type": "stream",
          "text": [
            "\n",
            "1.AND\n",
            "2.OR\n",
            "3.Exit\n",
            "2\n",
            "INP0\tINP1\tQ=w1*x1+w2*x2+w0 OP\n",
            "0 \t 0 \t -0.5 \t\t 0\n",
            "0 \t 1 \t 0.5 \t\t 1\n",
            "1 \t 0 \t 0.5 \t\t 1\n",
            "1 \t 1 \t 1.5 \t\t 1\n",
            "Slope:  -1.0\n",
            "Intercept :  0.5\n"
          ],
          "name": "stdout"
        },
        {
          "output_type": "display_data",
          "data": {
            "image/png": "[encoded data removed]",
            "text/plain": [
              "<Figure size 432x288 with 1 Axes>"
            ]
          },
          "metadata": {
            "tags": [],
            "needs_background": "light"
          }
        },
        {
          "output_type": "stream",
          "text": [
            "\n",
            "1.AND\n",
            "2.OR\n",
            "3.Exit\n",
            "3\n"
          ],
          "name": "stdout"
        }
      ]
    },
    {
      "cell_type": "code",
      "metadata": {
        "id": "BUwYwbA2JBxi"
      },
      "source": [
        ""
      ],
      "execution_count": null,
      "outputs": []
    }
  ]
}