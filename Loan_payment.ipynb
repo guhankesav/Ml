{
  "nbformat": 4,
  "nbformat_minor": 0,
  "metadata": {
    "kernelspec": {
      "display_name": "Python 3",
      "language": "python",
      "name": "python3"
    },
    "language_info": {
      "codemirror_mode": {
        "name": "ipython",
        "version": 3
      },
      "file_extension": ".py",
      "mimetype": "text/x-python",
      "name": "python",
      "nbconvert_exporter": "python",
      "pygments_lexer": "ipython3",
      "version": "3.7.4"
    },
    "colab": {
      "name": "Loan_payment.ipynb",
      "provenance": [],
      "include_colab_link": true
    }
  },
  "cells": [
    {
      "cell_type": "markdown",
      "metadata": {
        "id": "view-in-github",
        "colab_type": "text"
      },
      "source": [
        "<a href=\"https://colab.research.google.com/github/guhankesav/Ml/blob/main/Loan_payment.ipynb\" target=\"_parent\"><img src=\"https://colab.research.google.com/assets/colab-badge.svg\" alt=\"Open In Colab\"/></a>"
      ]
    },
    {
      "cell_type": "markdown",
      "metadata": {
        "id": "97ppekXpkV3f"
      },
      "source": [
        "#CB.EN.U4CSE18511\n",
        "Loan_dataset\n"
      ]
    },
    {
      "cell_type": "code",
      "metadata": {
        "id": "j9TlEbVLVmvh"
      },
      "source": [
        "from sklearn.linear_model import LogisticRegression\n",
        "from sklearn.metrics import mean_squared_error,f1_score\n",
        "import pandas as pd\n",
        "import numpy as np\n",
        "\n",
        "\n",
        "import matplotlib.pyplot as plt\n",
        "plt.rcParams['figure.figsize']=(10.0,5.0)\n",
        "\n",
        "data=pd.read_csv('/content/drive/MyDrive/6th SEM/POML/loan_data.csv')\n",
        "\n",
        "#print(data)\n",
        "#x=data.iloc[:,:4]\n",
        "x=data.iloc[:,:-1]\n",
        "y=data.iloc[:,-1:]"
      ],
      "execution_count": null,
      "outputs": []
    },
    {
      "cell_type": "code",
      "metadata": {
        "colab": {
          "base_uri": "https://localhost:8080/"
        },
        "id": "1qQ-mReEWPpv",
        "outputId": "8fe18bdb-346d-43f0-8889-6756ebd31d2a"
      },
      "source": [
        "from google.colab import drive\n",
        "drive.mount('/content/drive')"
      ],
      "execution_count": null,
      "outputs": [
        {
          "output_type": "stream",
          "text": [
            "Drive already mounted at /content/drive; to attempt to forcibly remount, call drive.mount(\"/content/drive\", force_remount=True).\n"
          ],
          "name": "stdout"
        }
      ]
    },
    {
      "cell_type": "code",
      "metadata": {
        "id": "XCOtL6lXVmvt"
      },
      "source": [
        "x_df = pd.DataFrame(x)\n",
        "y_df = pd.DataFrame(y)"
      ],
      "execution_count": null,
      "outputs": []
    },
    {
      "cell_type": "code",
      "metadata": {
        "id": "y1NYTtESlgKB"
      },
      "source": [
        "x_df = x_df.drop(['purpose'],axis=1)"
      ],
      "execution_count": null,
      "outputs": []
    },
    {
      "cell_type": "code",
      "metadata": {
        "id": "YcZ6-OejmRk4"
      },
      "source": [
        "l = x_df.columns"
      ],
      "execution_count": null,
      "outputs": []
    },
    {
      "cell_type": "code",
      "metadata": {
        "colab": {
          "base_uri": "https://localhost:8080/"
        },
        "id": "v1KsXBJimQQw",
        "outputId": "c56dbe93-3738-41e5-ae0e-cac22b6a4676"
      },
      "source": [
        "for i in l:\n",
        "    val = x_df[i].corr(y_df['not.fully.paid'])\n",
        "    print(i,val)\n",
        "    if(abs(val) < 0.14):\n",
        "        x_df = x_df.drop([i],axis=1)"
      ],
      "execution_count": null,
      "outputs": [
        {
          "output_type": "stream",
          "text": [
            "credit.policy -0.15811915031404808\n",
            "int.rate 0.15955158251815474\n",
            "installment 0.04995516207059684\n",
            "log.annual.inc -0.03343937654192997\n",
            "dti 0.03736152382778254\n",
            "fico -0.14966630307483755\n",
            "days.with.cr.line -0.02923667180034762\n",
            "revol.bal 0.053699363135291216\n",
            "revol.util 0.08208776761019995\n",
            "inq.last.6mths 0.14945194425507966\n",
            "delinq.2yrs 0.00888104094709795\n",
            "pub.rec 0.048634301352197\n"
          ],
          "name": "stdout"
        }
      ]
    },
    {
      "cell_type": "code",
      "metadata": {
        "colab": {
          "base_uri": "https://localhost:8080/",
          "height": 167
        },
        "id": "HSS_xXcymp4b",
        "outputId": "892f3826-628f-44ab-e882-c28f17253a4f"
      },
      "source": [
        "x_df.corr()"
      ],
      "execution_count": null,
      "outputs": [
        {
          "output_type": "execute_result",
          "data": {
            "text/html": [
              "<div>\n",
              "<style scoped>\n",
              "    .dataframe tbody tr th:only-of-type {\n",
              "        vertical-align: middle;\n",
              "    }\n",
              "\n",
              "    .dataframe tbody tr th {\n",
              "        vertical-align: top;\n",
              "    }\n",
              "\n",
              "    .dataframe thead th {\n",
              "        text-align: right;\n",
              "    }\n",
              "</style>\n",
              "<table border=\"1\" class=\"dataframe\">\n",
              "  <thead>\n",
              "    <tr style=\"text-align: right;\">\n",
              "      <th></th>\n",
              "      <th>credit.policy</th>\n",
              "      <th>int.rate</th>\n",
              "      <th>fico</th>\n",
              "      <th>inq.last.6mths</th>\n",
              "    </tr>\n",
              "  </thead>\n",
              "  <tbody>\n",
              "    <tr>\n",
              "      <th>credit.policy</th>\n",
              "      <td>1.000000</td>\n",
              "      <td>-0.294089</td>\n",
              "      <td>0.348319</td>\n",
              "      <td>-0.535511</td>\n",
              "    </tr>\n",
              "    <tr>\n",
              "      <th>int.rate</th>\n",
              "      <td>-0.294089</td>\n",
              "      <td>1.000000</td>\n",
              "      <td>-0.714821</td>\n",
              "      <td>0.202780</td>\n",
              "    </tr>\n",
              "    <tr>\n",
              "      <th>fico</th>\n",
              "      <td>0.348319</td>\n",
              "      <td>-0.714821</td>\n",
              "      <td>1.000000</td>\n",
              "      <td>-0.185293</td>\n",
              "    </tr>\n",
              "    <tr>\n",
              "      <th>inq.last.6mths</th>\n",
              "      <td>-0.535511</td>\n",
              "      <td>0.202780</td>\n",
              "      <td>-0.185293</td>\n",
              "      <td>1.000000</td>\n",
              "    </tr>\n",
              "  </tbody>\n",
              "</table>\n",
              "</div>"
            ],
            "text/plain": [
              "                credit.policy  int.rate      fico  inq.last.6mths\n",
              "credit.policy        1.000000 -0.294089  0.348319       -0.535511\n",
              "int.rate            -0.294089  1.000000 -0.714821        0.202780\n",
              "fico                 0.348319 -0.714821  1.000000       -0.185293\n",
              "inq.last.6mths      -0.535511  0.202780 -0.185293        1.000000"
            ]
          },
          "metadata": {
            "tags": []
          },
          "execution_count": 7
        }
      ]
    },
    {
      "cell_type": "code",
      "metadata": {
        "id": "2A_S3U1zmuOK"
      },
      "source": [
        "x_df = x_df.drop(['credit.policy'],axis=1)\n",
        "x_df = x_df.drop(['fico'],axis=1)"
      ],
      "execution_count": null,
      "outputs": []
    },
    {
      "cell_type": "code",
      "metadata": {
        "colab": {
          "base_uri": "https://localhost:8080/",
          "height": 406
        },
        "id": "C03WFgljVmvu",
        "outputId": "d4501931-13e8-485c-e41f-b1c38efc1072"
      },
      "source": [
        "y_df"
      ],
      "execution_count": null,
      "outputs": [
        {
          "output_type": "execute_result",
          "data": {
            "text/html": [
              "<div>\n",
              "<style scoped>\n",
              "    .dataframe tbody tr th:only-of-type {\n",
              "        vertical-align: middle;\n",
              "    }\n",
              "\n",
              "    .dataframe tbody tr th {\n",
              "        vertical-align: top;\n",
              "    }\n",
              "\n",
              "    .dataframe thead th {\n",
              "        text-align: right;\n",
              "    }\n",
              "</style>\n",
              "<table border=\"1\" class=\"dataframe\">\n",
              "  <thead>\n",
              "    <tr style=\"text-align: right;\">\n",
              "      <th></th>\n",
              "      <th>not.fully.paid</th>\n",
              "    </tr>\n",
              "  </thead>\n",
              "  <tbody>\n",
              "    <tr>\n",
              "      <th>0</th>\n",
              "      <td>0</td>\n",
              "    </tr>\n",
              "    <tr>\n",
              "      <th>1</th>\n",
              "      <td>0</td>\n",
              "    </tr>\n",
              "    <tr>\n",
              "      <th>2</th>\n",
              "      <td>0</td>\n",
              "    </tr>\n",
              "    <tr>\n",
              "      <th>3</th>\n",
              "      <td>0</td>\n",
              "    </tr>\n",
              "    <tr>\n",
              "      <th>4</th>\n",
              "      <td>0</td>\n",
              "    </tr>\n",
              "    <tr>\n",
              "      <th>...</th>\n",
              "      <td>...</td>\n",
              "    </tr>\n",
              "    <tr>\n",
              "      <th>9573</th>\n",
              "      <td>1</td>\n",
              "    </tr>\n",
              "    <tr>\n",
              "      <th>9574</th>\n",
              "      <td>1</td>\n",
              "    </tr>\n",
              "    <tr>\n",
              "      <th>9575</th>\n",
              "      <td>1</td>\n",
              "    </tr>\n",
              "    <tr>\n",
              "      <th>9576</th>\n",
              "      <td>1</td>\n",
              "    </tr>\n",
              "    <tr>\n",
              "      <th>9577</th>\n",
              "      <td>1</td>\n",
              "    </tr>\n",
              "  </tbody>\n",
              "</table>\n",
              "<p>9578 rows × 1 columns</p>\n",
              "</div>"
            ],
            "text/plain": [
              "      not.fully.paid\n",
              "0                  0\n",
              "1                  0\n",
              "2                  0\n",
              "3                  0\n",
              "4                  0\n",
              "...              ...\n",
              "9573               1\n",
              "9574               1\n",
              "9575               1\n",
              "9576               1\n",
              "9577               1\n",
              "\n",
              "[9578 rows x 1 columns]"
            ]
          },
          "metadata": {
            "tags": []
          },
          "execution_count": 9
        }
      ]
    },
    {
      "cell_type": "code",
      "metadata": {
        "colab": {
          "base_uri": "https://localhost:8080/"
        },
        "id": "f-1tlY2XVmvw",
        "outputId": "d8f39591-181f-4db4-f348-2525ca6eeca9"
      },
      "source": [
        "from sklearn.model_selection import train_test_split\n",
        "x_train,x_test,y_train,y_test = train_test_split(x_df,y_df,test_size=0.2)\n",
        "print (x_train.shape,x_test.shape,y_train.shape,y_test.shape )"
      ],
      "execution_count": null,
      "outputs": [
        {
          "output_type": "stream",
          "text": [
            "(7662, 2) (1916, 2) (7662, 1) (1916, 1)\n"
          ],
          "name": "stdout"
        }
      ]
    },
    {
      "cell_type": "code",
      "metadata": {
        "id": "GpxSftBtlCRp"
      },
      "source": [
        ""
      ],
      "execution_count": null,
      "outputs": []
    },
    {
      "cell_type": "code",
      "metadata": {
        "colab": {
          "base_uri": "https://localhost:8080/"
        },
        "id": "tZTL8m7xVmvx",
        "outputId": "63d570ee-2af2-413a-dfb9-7e1defd188e0"
      },
      "source": [
        "regr = LogisticRegression(random_state=0)\n",
        "regr.fit(x_train, y_train.values.ravel())"
      ],
      "execution_count": null,
      "outputs": [
        {
          "output_type": "execute_result",
          "data": {
            "text/plain": [
              "LogisticRegression(C=1.0, class_weight=None, dual=False, fit_intercept=True,\n",
              "                   intercept_scaling=1, l1_ratio=None, max_iter=100,\n",
              "                   multi_class='auto', n_jobs=None, penalty='l2',\n",
              "                   random_state=0, solver='lbfgs', tol=0.0001, verbose=0,\n",
              "                   warm_start=False)"
            ]
          },
          "metadata": {
            "tags": []
          },
          "execution_count": 11
        }
      ]
    },
    {
      "cell_type": "code",
      "metadata": {
        "id": "BBUpshKZVmvy"
      },
      "source": [
        "y_predict=regr.predict(x_test)"
      ],
      "execution_count": null,
      "outputs": []
    },
    {
      "cell_type": "code",
      "metadata": {
        "colab": {
          "base_uri": "https://localhost:8080/"
        },
        "id": "tox91MKsVmvy",
        "outputId": "be5a1e21-22ba-4662-962b-4fabf126da5e"
      },
      "source": [
        "from sklearn.metrics import mean_squared_error,r2_score,f1_score\n",
        "print(mean_squared_error(y_test,y_predict))\n",
        "print(r2_score(y_test, y_predict))"
      ],
      "execution_count": null,
      "outputs": [
        {
          "output_type": "stream",
          "text": [
            "0.14979123173277661\n",
            "-0.16286968014803094\n"
          ],
          "name": "stdout"
        }
      ]
    },
    {
      "cell_type": "code",
      "metadata": {
        "colab": {
          "base_uri": "https://localhost:8080/"
        },
        "id": "q0IjoFB0Vmvz",
        "outputId": "cdd88d03-c272-430c-f24d-e221ead1710c"
      },
      "source": [
        "print(regr.classes_)"
      ],
      "execution_count": null,
      "outputs": [
        {
          "output_type": "stream",
          "text": [
            "[0 1]\n"
          ],
          "name": "stdout"
        }
      ]
    },
    {
      "cell_type": "code",
      "metadata": {
        "colab": {
          "base_uri": "https://localhost:8080/"
        },
        "id": "LRwr-U8PVmv0",
        "outputId": "0f922cb9-9d98-44c9-8c0a-32b3390fdf3a"
      },
      "source": [
        "regr = LogisticRegression(random_state=0,solver='lbfgs',max_iter=10000)\n",
        "regr.fit(x_train, y_train.values.ravel())"
      ],
      "execution_count": null,
      "outputs": [
        {
          "output_type": "execute_result",
          "data": {
            "text/plain": [
              "LogisticRegression(C=1.0, class_weight=None, dual=False, fit_intercept=True,\n",
              "                   intercept_scaling=1, l1_ratio=None, max_iter=10000,\n",
              "                   multi_class='auto', n_jobs=None, penalty='l2',\n",
              "                   random_state=0, solver='lbfgs', tol=0.0001, verbose=0,\n",
              "                   warm_start=False)"
            ]
          },
          "metadata": {
            "tags": []
          },
          "execution_count": 15
        }
      ]
    },
    {
      "cell_type": "code",
      "metadata": {
        "id": "HCkIkldkVmv1"
      },
      "source": [
        "y_predict=regr.predict(x_test)"
      ],
      "execution_count": null,
      "outputs": []
    },
    {
      "cell_type": "code",
      "metadata": {
        "colab": {
          "base_uri": "https://localhost:8080/"
        },
        "id": "wbttVw8BVmv2",
        "outputId": "b66e321b-fdc3-4512-bba4-c46642121ac3"
      },
      "source": [
        "print(mean_squared_error(y_test,y_predict))\n",
        "print(f1_score(y_test, y_predict))"
      ],
      "execution_count": null,
      "outputs": [
        {
          "output_type": "stream",
          "text": [
            "0.14979123173277661\n",
            "0.04013377926421405\n"
          ],
          "name": "stdout"
        }
      ]
    }
  ]
}