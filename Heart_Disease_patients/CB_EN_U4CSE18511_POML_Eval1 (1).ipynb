{
  "nbformat": 4,
  "nbformat_minor": 0,
  "metadata": {
    "colab": {
      "name": "CB.EN.U4CSE18511_POML_Eval1.ipynb",
      "provenance": [],
      "collapsed_sections": []
    },
    "kernelspec": {
      "name": "python3",
      "display_name": "Python 3"
    }
  },
  "cells": [
    {
      "cell_type": "markdown",
      "metadata": {
        "id": "EfaHvlAnyMgS"
      },
      "source": [
        "#PRINCIPLES OF MACHINE LEARNING \r\n",
        "##Evaluation 1 \r\n"
      ]
    },
    {
      "cell_type": "markdown",
      "metadata": {
        "id": "BEwqTv2IyXfZ"
      },
      "source": [
        "1. Download Heart Disease dataset from kaggle repository. Read the description of the dataset to\r\n",
        "understand the nature of the dataset. Link : https://www.kaggle.com/ronitf/heart-disease-uci\r\n",
        "(Description about the dataset can be found from following link : https://archive.ics.uci.edu/ml/\r\n",
        "datasets/Heart+Disease)"
      ]
    },
    {
      "cell_type": "markdown",
      "metadata": {
        "id": "CrQ4E9QQynjt"
      },
      "source": [
        "Importing libraries"
      ]
    },
    {
      "cell_type": "code",
      "metadata": {
        "id": "EXrFnJcy0B88"
      },
      "source": [
        "import pandas as pd\r\n",
        "import numpy as np \r\n",
        "from matplotlib import pyplot as plt\r\n",
        "import random \r\n",
        "import seaborn as sns"
      ],
      "execution_count": 39,
      "outputs": []
    },
    {
      "cell_type": "markdown",
      "metadata": {
        "id": "xVOqlD5uyZqQ"
      },
      "source": [
        "Reading the csv"
      ]
    },
    {
      "cell_type": "code",
      "metadata": {
        "id": "IP0HS7Nm0Jak"
      },
      "source": [
        "df = pd.read_csv('/content/drive/MyDrive/6th SEM/POML/heart.csv')"
      ],
      "execution_count": 168,
      "outputs": []
    },
    {
      "cell_type": "markdown",
      "metadata": {
        "id": "1QvBg4QNytma"
      },
      "source": [
        "Displaying first few rows of the Dataframe"
      ]
    },
    {
      "cell_type": "code",
      "metadata": {
        "colab": {
          "base_uri": "https://localhost:8080/",
          "height": 204
        },
        "id": "lMcR1RKx1JmT",
        "outputId": "bd75a474-c070-4ede-fefa-d943edb2d39b"
      },
      "source": [
        "df.head()"
      ],
      "execution_count": 3,
      "outputs": [
        {
          "output_type": "execute_result",
          "data": {
            "text/html": [
              "<div>\n",
              "<style scoped>\n",
              "    .dataframe tbody tr th:only-of-type {\n",
              "        vertical-align: middle;\n",
              "    }\n",
              "\n",
              "    .dataframe tbody tr th {\n",
              "        vertical-align: top;\n",
              "    }\n",
              "\n",
              "    .dataframe thead th {\n",
              "        text-align: right;\n",
              "    }\n",
              "</style>\n",
              "<table border=\"1\" class=\"dataframe\">\n",
              "  <thead>\n",
              "    <tr style=\"text-align: right;\">\n",
              "      <th></th>\n",
              "      <th>age</th>\n",
              "      <th>sex</th>\n",
              "      <th>cp</th>\n",
              "      <th>trestbps</th>\n",
              "      <th>chol</th>\n",
              "      <th>fbs</th>\n",
              "      <th>restecg</th>\n",
              "      <th>thalach</th>\n",
              "      <th>exang</th>\n",
              "      <th>oldpeak</th>\n",
              "      <th>slope</th>\n",
              "      <th>ca</th>\n",
              "      <th>thal</th>\n",
              "      <th>target</th>\n",
              "    </tr>\n",
              "  </thead>\n",
              "  <tbody>\n",
              "    <tr>\n",
              "      <th>0</th>\n",
              "      <td>63</td>\n",
              "      <td>1</td>\n",
              "      <td>3</td>\n",
              "      <td>145</td>\n",
              "      <td>233</td>\n",
              "      <td>1</td>\n",
              "      <td>0</td>\n",
              "      <td>150</td>\n",
              "      <td>0</td>\n",
              "      <td>2.3</td>\n",
              "      <td>0</td>\n",
              "      <td>0</td>\n",
              "      <td>1</td>\n",
              "      <td>1</td>\n",
              "    </tr>\n",
              "    <tr>\n",
              "      <th>1</th>\n",
              "      <td>37</td>\n",
              "      <td>1</td>\n",
              "      <td>2</td>\n",
              "      <td>130</td>\n",
              "      <td>250</td>\n",
              "      <td>0</td>\n",
              "      <td>1</td>\n",
              "      <td>187</td>\n",
              "      <td>0</td>\n",
              "      <td>3.5</td>\n",
              "      <td>0</td>\n",
              "      <td>0</td>\n",
              "      <td>2</td>\n",
              "      <td>1</td>\n",
              "    </tr>\n",
              "    <tr>\n",
              "      <th>2</th>\n",
              "      <td>41</td>\n",
              "      <td>0</td>\n",
              "      <td>1</td>\n",
              "      <td>130</td>\n",
              "      <td>204</td>\n",
              "      <td>0</td>\n",
              "      <td>0</td>\n",
              "      <td>172</td>\n",
              "      <td>0</td>\n",
              "      <td>1.4</td>\n",
              "      <td>2</td>\n",
              "      <td>0</td>\n",
              "      <td>2</td>\n",
              "      <td>1</td>\n",
              "    </tr>\n",
              "    <tr>\n",
              "      <th>3</th>\n",
              "      <td>56</td>\n",
              "      <td>1</td>\n",
              "      <td>1</td>\n",
              "      <td>120</td>\n",
              "      <td>236</td>\n",
              "      <td>0</td>\n",
              "      <td>1</td>\n",
              "      <td>178</td>\n",
              "      <td>0</td>\n",
              "      <td>0.8</td>\n",
              "      <td>2</td>\n",
              "      <td>0</td>\n",
              "      <td>2</td>\n",
              "      <td>1</td>\n",
              "    </tr>\n",
              "    <tr>\n",
              "      <th>4</th>\n",
              "      <td>57</td>\n",
              "      <td>0</td>\n",
              "      <td>0</td>\n",
              "      <td>120</td>\n",
              "      <td>354</td>\n",
              "      <td>0</td>\n",
              "      <td>1</td>\n",
              "      <td>163</td>\n",
              "      <td>1</td>\n",
              "      <td>0.6</td>\n",
              "      <td>2</td>\n",
              "      <td>0</td>\n",
              "      <td>2</td>\n",
              "      <td>1</td>\n",
              "    </tr>\n",
              "  </tbody>\n",
              "</table>\n",
              "</div>"
            ],
            "text/plain": [
              "   age  sex  cp  trestbps  chol  fbs  ...  exang  oldpeak  slope  ca  thal  target\n",
              "0   63    1   3       145   233    1  ...      0      2.3      0   0     1       1\n",
              "1   37    1   2       130   250    0  ...      0      3.5      0   0     2       1\n",
              "2   41    0   1       130   204    0  ...      0      1.4      2   0     2       1\n",
              "3   56    1   1       120   236    0  ...      0      0.8      2   0     2       1\n",
              "4   57    0   0       120   354    0  ...      1      0.6      2   0     2       1\n",
              "\n",
              "[5 rows x 14 columns]"
            ]
          },
          "metadata": {
            "tags": []
          },
          "execution_count": 3
        }
      ]
    },
    {
      "cell_type": "markdown",
      "metadata": {
        "id": "CqJ4L9Eoy9LU"
      },
      "source": [
        "Gives the description of the dataframe"
      ]
    },
    {
      "cell_type": "code",
      "metadata": {
        "colab": {
          "base_uri": "https://localhost:8080/",
          "height": 317
        },
        "id": "klmWo1O615Ee",
        "outputId": "c1c68c0c-8c60-4227-c7bf-5dea1e81af2c"
      },
      "source": [
        "df.describe()"
      ],
      "execution_count": 4,
      "outputs": [
        {
          "output_type": "execute_result",
          "data": {
            "text/html": [
              "<div>\n",
              "<style scoped>\n",
              "    .dataframe tbody tr th:only-of-type {\n",
              "        vertical-align: middle;\n",
              "    }\n",
              "\n",
              "    .dataframe tbody tr th {\n",
              "        vertical-align: top;\n",
              "    }\n",
              "\n",
              "    .dataframe thead th {\n",
              "        text-align: right;\n",
              "    }\n",
              "</style>\n",
              "<table border=\"1\" class=\"dataframe\">\n",
              "  <thead>\n",
              "    <tr style=\"text-align: right;\">\n",
              "      <th></th>\n",
              "      <th>age</th>\n",
              "      <th>sex</th>\n",
              "      <th>cp</th>\n",
              "      <th>trestbps</th>\n",
              "      <th>chol</th>\n",
              "      <th>fbs</th>\n",
              "      <th>restecg</th>\n",
              "      <th>thalach</th>\n",
              "      <th>exang</th>\n",
              "      <th>oldpeak</th>\n",
              "      <th>slope</th>\n",
              "      <th>ca</th>\n",
              "      <th>thal</th>\n",
              "      <th>target</th>\n",
              "    </tr>\n",
              "  </thead>\n",
              "  <tbody>\n",
              "    <tr>\n",
              "      <th>count</th>\n",
              "      <td>303.000000</td>\n",
              "      <td>303.000000</td>\n",
              "      <td>303.000000</td>\n",
              "      <td>303.000000</td>\n",
              "      <td>303.000000</td>\n",
              "      <td>303.000000</td>\n",
              "      <td>303.000000</td>\n",
              "      <td>303.000000</td>\n",
              "      <td>303.000000</td>\n",
              "      <td>303.000000</td>\n",
              "      <td>303.000000</td>\n",
              "      <td>303.000000</td>\n",
              "      <td>303.000000</td>\n",
              "      <td>303.000000</td>\n",
              "    </tr>\n",
              "    <tr>\n",
              "      <th>mean</th>\n",
              "      <td>54.366337</td>\n",
              "      <td>0.683168</td>\n",
              "      <td>0.966997</td>\n",
              "      <td>131.623762</td>\n",
              "      <td>246.264026</td>\n",
              "      <td>0.148515</td>\n",
              "      <td>0.528053</td>\n",
              "      <td>149.646865</td>\n",
              "      <td>0.326733</td>\n",
              "      <td>1.039604</td>\n",
              "      <td>1.399340</td>\n",
              "      <td>0.729373</td>\n",
              "      <td>2.313531</td>\n",
              "      <td>0.544554</td>\n",
              "    </tr>\n",
              "    <tr>\n",
              "      <th>std</th>\n",
              "      <td>9.082101</td>\n",
              "      <td>0.466011</td>\n",
              "      <td>1.032052</td>\n",
              "      <td>17.538143</td>\n",
              "      <td>51.830751</td>\n",
              "      <td>0.356198</td>\n",
              "      <td>0.525860</td>\n",
              "      <td>22.905161</td>\n",
              "      <td>0.469794</td>\n",
              "      <td>1.161075</td>\n",
              "      <td>0.616226</td>\n",
              "      <td>1.022606</td>\n",
              "      <td>0.612277</td>\n",
              "      <td>0.498835</td>\n",
              "    </tr>\n",
              "    <tr>\n",
              "      <th>min</th>\n",
              "      <td>29.000000</td>\n",
              "      <td>0.000000</td>\n",
              "      <td>0.000000</td>\n",
              "      <td>94.000000</td>\n",
              "      <td>126.000000</td>\n",
              "      <td>0.000000</td>\n",
              "      <td>0.000000</td>\n",
              "      <td>71.000000</td>\n",
              "      <td>0.000000</td>\n",
              "      <td>0.000000</td>\n",
              "      <td>0.000000</td>\n",
              "      <td>0.000000</td>\n",
              "      <td>0.000000</td>\n",
              "      <td>0.000000</td>\n",
              "    </tr>\n",
              "    <tr>\n",
              "      <th>25%</th>\n",
              "      <td>47.500000</td>\n",
              "      <td>0.000000</td>\n",
              "      <td>0.000000</td>\n",
              "      <td>120.000000</td>\n",
              "      <td>211.000000</td>\n",
              "      <td>0.000000</td>\n",
              "      <td>0.000000</td>\n",
              "      <td>133.500000</td>\n",
              "      <td>0.000000</td>\n",
              "      <td>0.000000</td>\n",
              "      <td>1.000000</td>\n",
              "      <td>0.000000</td>\n",
              "      <td>2.000000</td>\n",
              "      <td>0.000000</td>\n",
              "    </tr>\n",
              "    <tr>\n",
              "      <th>50%</th>\n",
              "      <td>55.000000</td>\n",
              "      <td>1.000000</td>\n",
              "      <td>1.000000</td>\n",
              "      <td>130.000000</td>\n",
              "      <td>240.000000</td>\n",
              "      <td>0.000000</td>\n",
              "      <td>1.000000</td>\n",
              "      <td>153.000000</td>\n",
              "      <td>0.000000</td>\n",
              "      <td>0.800000</td>\n",
              "      <td>1.000000</td>\n",
              "      <td>0.000000</td>\n",
              "      <td>2.000000</td>\n",
              "      <td>1.000000</td>\n",
              "    </tr>\n",
              "    <tr>\n",
              "      <th>75%</th>\n",
              "      <td>61.000000</td>\n",
              "      <td>1.000000</td>\n",
              "      <td>2.000000</td>\n",
              "      <td>140.000000</td>\n",
              "      <td>274.500000</td>\n",
              "      <td>0.000000</td>\n",
              "      <td>1.000000</td>\n",
              "      <td>166.000000</td>\n",
              "      <td>1.000000</td>\n",
              "      <td>1.600000</td>\n",
              "      <td>2.000000</td>\n",
              "      <td>1.000000</td>\n",
              "      <td>3.000000</td>\n",
              "      <td>1.000000</td>\n",
              "    </tr>\n",
              "    <tr>\n",
              "      <th>max</th>\n",
              "      <td>77.000000</td>\n",
              "      <td>1.000000</td>\n",
              "      <td>3.000000</td>\n",
              "      <td>200.000000</td>\n",
              "      <td>564.000000</td>\n",
              "      <td>1.000000</td>\n",
              "      <td>2.000000</td>\n",
              "      <td>202.000000</td>\n",
              "      <td>1.000000</td>\n",
              "      <td>6.200000</td>\n",
              "      <td>2.000000</td>\n",
              "      <td>4.000000</td>\n",
              "      <td>3.000000</td>\n",
              "      <td>1.000000</td>\n",
              "    </tr>\n",
              "  </tbody>\n",
              "</table>\n",
              "</div>"
            ],
            "text/plain": [
              "              age         sex          cp  ...          ca        thal      target\n",
              "count  303.000000  303.000000  303.000000  ...  303.000000  303.000000  303.000000\n",
              "mean    54.366337    0.683168    0.966997  ...    0.729373    2.313531    0.544554\n",
              "std      9.082101    0.466011    1.032052  ...    1.022606    0.612277    0.498835\n",
              "min     29.000000    0.000000    0.000000  ...    0.000000    0.000000    0.000000\n",
              "25%     47.500000    0.000000    0.000000  ...    0.000000    2.000000    0.000000\n",
              "50%     55.000000    1.000000    1.000000  ...    0.000000    2.000000    1.000000\n",
              "75%     61.000000    1.000000    2.000000  ...    1.000000    3.000000    1.000000\n",
              "max     77.000000    1.000000    3.000000  ...    4.000000    3.000000    1.000000\n",
              "\n",
              "[8 rows x 14 columns]"
            ]
          },
          "metadata": {
            "tags": []
          },
          "execution_count": 4
        }
      ]
    },
    {
      "cell_type": "markdown",
      "metadata": {
        "id": "fnCIP2Qd5IaQ"
      },
      "source": [
        "##2. Verify that the given dataset has any missing values or not. \r\n",
        "If all the cells are filled with values\r\n",
        "then randomly delete some cells values. Hence the resultant dataset will have some missing\r\n",
        "values."
      ]
    },
    {
      "cell_type": "code",
      "metadata": {
        "id": "ygJsAKA93LCo",
        "colab": {
          "base_uri": "https://localhost:8080/",
          "height": 0
        },
        "outputId": "66c5fb93-53bd-43ef-9102-ad780290c27e"
      },
      "source": [
        "for i in df.columns:\r\n",
        "  if(df[i].isnull().sum() == 0):\r\n",
        "    roww = random.randrange(0,len(df))\r\n",
        "    col = df.columns.get_loc(i)\r\n",
        "    df.iloc[roww,col]=np.nan\r\n",
        "df.isnull().sum()"
      ],
      "execution_count": 169,
      "outputs": [
        {
          "output_type": "execute_result",
          "data": {
            "text/plain": [
              "age         1\n",
              "sex         1\n",
              "cp          1\n",
              "trestbps    1\n",
              "chol        1\n",
              "fbs         1\n",
              "restecg     1\n",
              "thalach     1\n",
              "exang       1\n",
              "oldpeak     1\n",
              "slope       1\n",
              "ca          1\n",
              "thal        1\n",
              "target      1\n",
              "dtype: int64"
            ]
          },
          "metadata": {
            "tags": []
          },
          "execution_count": 169
        }
      ]
    },
    {
      "cell_type": "markdown",
      "metadata": {
        "id": "xJxmkMs7zHp_"
      },
      "source": [
        "##3. Fill the missing values with the mean (or) mode (or) median (or) most frequently occurred value (or) random value in the range [mean-std, mean +std]."
      ]
    },
    {
      "cell_type": "code",
      "metadata": {
        "colab": {
          "base_uri": "https://localhost:8080/"
        },
        "id": "ye1emcwj4A6G",
        "outputId": "94578311-321b-49a3-91e6-36b0cf33f65a"
      },
      "source": [
        "for i in df.columns:\r\n",
        "  if i not in (\"age\",\"trestbps\",\"chol\",\"thalach\"):\r\n",
        "    df[i].fillna(df[i].mode()[0], inplace = True)\r\n",
        "     \r\n",
        "  else:\r\n",
        "    df[i].fillna(df[i].mean(), inplace = True) \r\n",
        "\r\n",
        "df.isnull().sum()"
      ],
      "execution_count": 200,
      "outputs": [
        {
          "output_type": "execute_result",
          "data": {
            "text/plain": [
              "age         0\n",
              "sex         0\n",
              "cp          0\n",
              "trestbps    0\n",
              "chol        0\n",
              "fbs         0\n",
              "restecg     0\n",
              "thalach     0\n",
              "exang       0\n",
              "oldpeak     0\n",
              "slope       0\n",
              "ca          0\n",
              "thal        0\n",
              "target      0\n",
              "dtype: int64"
            ]
          },
          "metadata": {
            "tags": []
          },
          "execution_count": 200
        }
      ]
    },
    {
      "cell_type": "markdown",
      "metadata": {
        "id": "rdIhe_0U_U-X"
      },
      "source": [
        "##4nd Compute the following statistics of all the features:\r\n",
        "i) Mean\r\n",
        "ii) Median\r\n",
        "iii) Mode\r\n",
        "iv) Range\r\n",
        "v) Inter quartile Range\r\n",
        "vi) Standard Deviation"
      ]
    },
    {
      "cell_type": "markdown",
      "metadata": {
        "id": "WBij3S-x_YSG"
      },
      "source": [
        "**Mean**"
      ]
    },
    {
      "cell_type": "code",
      "metadata": {
        "colab": {
          "base_uri": "https://localhost:8080/",
          "height": 0
        },
        "id": "hWwoEt4b_veK",
        "outputId": "2b4788b7-568a-4966-e53b-21eb2632e7d1"
      },
      "source": [
        "df.mean()"
      ],
      "execution_count": 7,
      "outputs": [
        {
          "output_type": "execute_result",
          "data": {
            "text/plain": [
              "age          54.374172\n",
              "sex           0.682119\n",
              "cp            0.970199\n",
              "trestbps    131.579470\n",
              "chol        246.317881\n",
              "fbs           0.149007\n",
              "restecg       0.526490\n",
              "thalach     149.821192\n",
              "exang         0.327815\n",
              "oldpeak       1.037748\n",
              "slope         1.400662\n",
              "ca            0.731788\n",
              "thal          2.314570\n",
              "target        0.546358\n",
              "dtype: float64"
            ]
          },
          "metadata": {
            "tags": []
          },
          "execution_count": 7
        }
      ]
    },
    {
      "cell_type": "markdown",
      "metadata": {
        "id": "Rxts29r5_bqa"
      },
      "source": [
        "**Median**"
      ]
    },
    {
      "cell_type": "code",
      "metadata": {
        "colab": {
          "base_uri": "https://localhost:8080/",
          "height": 0
        },
        "id": "hj3pCHSe3XnJ",
        "outputId": "3b86ae0b-00cf-4750-d515-82df12b69bb7"
      },
      "source": [
        "df.median(axis=0)"
      ],
      "execution_count": 8,
      "outputs": [
        {
          "output_type": "execute_result",
          "data": {
            "text/plain": [
              "age          55.0\n",
              "sex           1.0\n",
              "cp            1.0\n",
              "trestbps    130.0\n",
              "chol        241.0\n",
              "fbs           0.0\n",
              "restecg       1.0\n",
              "thalach     153.0\n",
              "exang         0.0\n",
              "oldpeak       0.8\n",
              "slope         1.0\n",
              "ca            0.0\n",
              "thal          2.0\n",
              "target        1.0\n",
              "dtype: float64"
            ]
          },
          "metadata": {
            "tags": []
          },
          "execution_count": 8
        }
      ]
    },
    {
      "cell_type": "markdown",
      "metadata": {
        "id": "ATxSIzBMCnTY"
      },
      "source": [
        "**Mode**"
      ]
    },
    {
      "cell_type": "code",
      "metadata": {
        "colab": {
          "base_uri": "https://localhost:8080/",
          "height": 142
        },
        "id": "kD1T52dgCoFu",
        "outputId": "dcb31c08-f836-4a42-f750-49fab3c0b176"
      },
      "source": [
        "df.mode()\r\n"
      ],
      "execution_count": 9,
      "outputs": [
        {
          "output_type": "execute_result",
          "data": {
            "text/html": [
              "<div>\n",
              "<style scoped>\n",
              "    .dataframe tbody tr th:only-of-type {\n",
              "        vertical-align: middle;\n",
              "    }\n",
              "\n",
              "    .dataframe tbody tr th {\n",
              "        vertical-align: top;\n",
              "    }\n",
              "\n",
              "    .dataframe thead th {\n",
              "        text-align: right;\n",
              "    }\n",
              "</style>\n",
              "<table border=\"1\" class=\"dataframe\">\n",
              "  <thead>\n",
              "    <tr style=\"text-align: right;\">\n",
              "      <th></th>\n",
              "      <th>age</th>\n",
              "      <th>sex</th>\n",
              "      <th>cp</th>\n",
              "      <th>trestbps</th>\n",
              "      <th>chol</th>\n",
              "      <th>fbs</th>\n",
              "      <th>restecg</th>\n",
              "      <th>thalach</th>\n",
              "      <th>exang</th>\n",
              "      <th>oldpeak</th>\n",
              "      <th>slope</th>\n",
              "      <th>ca</th>\n",
              "      <th>thal</th>\n",
              "      <th>target</th>\n",
              "    </tr>\n",
              "  </thead>\n",
              "  <tbody>\n",
              "    <tr>\n",
              "      <th>0</th>\n",
              "      <td>58.0</td>\n",
              "      <td>1.0</td>\n",
              "      <td>0.0</td>\n",
              "      <td>120.0</td>\n",
              "      <td>197.0</td>\n",
              "      <td>0.0</td>\n",
              "      <td>1.0</td>\n",
              "      <td>162.0</td>\n",
              "      <td>0.0</td>\n",
              "      <td>0.0</td>\n",
              "      <td>2.0</td>\n",
              "      <td>0.0</td>\n",
              "      <td>2.0</td>\n",
              "      <td>1.0</td>\n",
              "    </tr>\n",
              "    <tr>\n",
              "      <th>1</th>\n",
              "      <td>NaN</td>\n",
              "      <td>NaN</td>\n",
              "      <td>NaN</td>\n",
              "      <td>NaN</td>\n",
              "      <td>204.0</td>\n",
              "      <td>NaN</td>\n",
              "      <td>NaN</td>\n",
              "      <td>NaN</td>\n",
              "      <td>NaN</td>\n",
              "      <td>NaN</td>\n",
              "      <td>NaN</td>\n",
              "      <td>NaN</td>\n",
              "      <td>NaN</td>\n",
              "      <td>NaN</td>\n",
              "    </tr>\n",
              "    <tr>\n",
              "      <th>2</th>\n",
              "      <td>NaN</td>\n",
              "      <td>NaN</td>\n",
              "      <td>NaN</td>\n",
              "      <td>NaN</td>\n",
              "      <td>234.0</td>\n",
              "      <td>NaN</td>\n",
              "      <td>NaN</td>\n",
              "      <td>NaN</td>\n",
              "      <td>NaN</td>\n",
              "      <td>NaN</td>\n",
              "      <td>NaN</td>\n",
              "      <td>NaN</td>\n",
              "      <td>NaN</td>\n",
              "      <td>NaN</td>\n",
              "    </tr>\n",
              "  </tbody>\n",
              "</table>\n",
              "</div>"
            ],
            "text/plain": [
              "    age  sex   cp  trestbps   chol  ...  oldpeak  slope   ca  thal  target\n",
              "0  58.0  1.0  0.0     120.0  197.0  ...      0.0    2.0  0.0   2.0     1.0\n",
              "1   NaN  NaN  NaN       NaN  204.0  ...      NaN    NaN  NaN   NaN     NaN\n",
              "2   NaN  NaN  NaN       NaN  234.0  ...      NaN    NaN  NaN   NaN     NaN\n",
              "\n",
              "[3 rows x 14 columns]"
            ]
          },
          "metadata": {
            "tags": []
          },
          "execution_count": 9
        }
      ]
    },
    {
      "cell_type": "markdown",
      "metadata": {
        "id": "sSAC3hbf8XTg"
      },
      "source": [
        "**Range**\r\n"
      ]
    },
    {
      "cell_type": "code",
      "metadata": {
        "colab": {
          "base_uri": "https://localhost:8080/",
          "height": 0
        },
        "id": "YxzMkVIU7dRd",
        "outputId": "f16b655f-ca6a-4512-d16c-b057f60ce1b3"
      },
      "source": [
        "df.max()-df.min()"
      ],
      "execution_count": 10,
      "outputs": [
        {
          "output_type": "execute_result",
          "data": {
            "text/plain": [
              "age          48.0\n",
              "sex           1.0\n",
              "cp            3.0\n",
              "trestbps    106.0\n",
              "chol        438.0\n",
              "fbs           1.0\n",
              "restecg       2.0\n",
              "thalach     131.0\n",
              "exang         1.0\n",
              "oldpeak       6.2\n",
              "slope         2.0\n",
              "ca            4.0\n",
              "thal          3.0\n",
              "target        1.0\n",
              "dtype: float64"
            ]
          },
          "metadata": {
            "tags": []
          },
          "execution_count": 10
        }
      ]
    },
    {
      "cell_type": "markdown",
      "metadata": {
        "id": "WrEEebPE8Ote"
      },
      "source": [
        "**InterQuartile Range**\r\n"
      ]
    },
    {
      "cell_type": "code",
      "metadata": {
        "colab": {
          "base_uri": "https://localhost:8080/",
          "height": 0
        },
        "id": "Z11nk4oz5xaP",
        "outputId": "79e9ab57-8a48-4a69-d72e-50e145c11fcf"
      },
      "source": [
        "Q3 = df.quantile(0.75)\r\n",
        "Q1 = df.quantile(0.25)\r\n",
        "Q3-Q1"
      ],
      "execution_count": 11,
      "outputs": [
        {
          "output_type": "execute_result",
          "data": {
            "text/plain": [
              "age         13.5\n",
              "sex          1.0\n",
              "cp           2.0\n",
              "trestbps    20.0\n",
              "chol        63.5\n",
              "fbs          0.0\n",
              "restecg      1.0\n",
              "thalach     31.0\n",
              "exang        1.0\n",
              "oldpeak      1.6\n",
              "slope        1.0\n",
              "ca           1.0\n",
              "thal         1.0\n",
              "target       1.0\n",
              "dtype: float64"
            ]
          },
          "metadata": {
            "tags": []
          },
          "execution_count": 11
        }
      ]
    },
    {
      "cell_type": "markdown",
      "metadata": {
        "id": "t83AnscQ8-V3"
      },
      "source": [
        "**Standard Deviation**"
      ]
    },
    {
      "cell_type": "code",
      "metadata": {
        "colab": {
          "base_uri": "https://localhost:8080/",
          "height": 0
        },
        "id": "tIYYxS0s_6dn",
        "outputId": "b961b24b-2269-4e57-c58a-b78eb6a92e89"
      },
      "source": [
        "t = df.std()\r\n",
        "print(t)"
      ],
      "execution_count": 12,
      "outputs": [
        {
          "output_type": "stream",
          "text": [
            "age          9.081077\n",
            "sex          0.465653\n",
            "cp           1.030546\n",
            "trestbps    17.521188\n",
            "chol        51.822273\n",
            "fbs          0.356095\n",
            "restecg      0.525156\n",
            "thalach     22.703265\n",
            "exang        0.469417\n",
            "oldpeak      1.160626\n",
            "slope        0.615796\n",
            "ca           1.021742\n",
            "thal         0.612010\n",
            "target       0.497846\n",
            "dtype: float64\n"
          ],
          "name": "stdout"
        }
      ]
    },
    {
      "cell_type": "markdown",
      "metadata": {
        "id": "W0OGBn_RLrXh"
      },
      "source": [
        "##5.Partition the given dataset into mutually exclusive and exhaustive subsets of records based on the class labels\r\n",
        ". There will be a dedicated partition for a class label. If the data set has class labels\r\n",
        "‘short’, ‘medium’, and ‘tall’ then 3 partitions will be created ‘ , ’\r\n",
        "respectively.\r\n",
        "\r\n"
      ]
    },
    {
      "cell_type": "code",
      "metadata": {
        "colab": {
          "base_uri": "https://localhost:8080/",
          "height": 221
        },
        "id": "-oApkS3tT7Sf",
        "outputId": "d0044d19-522c-413b-b00d-fd0aaf3882a3"
      },
      "source": [
        "new_df=df.groupby('target')\r\n",
        "hd=new_df.get_group(1)\r\n",
        "no_hd=new_df.get_group(0)\r\n",
        "\r\n",
        "print(\"No Heart Disease\")\r\n",
        "no_hd.head()"
      ],
      "execution_count": 197,
      "outputs": [
        {
          "output_type": "stream",
          "text": [
            "No Heart Disease\n"
          ],
          "name": "stdout"
        },
        {
          "output_type": "execute_result",
          "data": {
            "text/html": [
              "<div>\n",
              "<style scoped>\n",
              "    .dataframe tbody tr th:only-of-type {\n",
              "        vertical-align: middle;\n",
              "    }\n",
              "\n",
              "    .dataframe tbody tr th {\n",
              "        vertical-align: top;\n",
              "    }\n",
              "\n",
              "    .dataframe thead th {\n",
              "        text-align: right;\n",
              "    }\n",
              "</style>\n",
              "<table border=\"1\" class=\"dataframe\">\n",
              "  <thead>\n",
              "    <tr style=\"text-align: right;\">\n",
              "      <th></th>\n",
              "      <th>age</th>\n",
              "      <th>sex</th>\n",
              "      <th>cp</th>\n",
              "      <th>trestbps</th>\n",
              "      <th>chol</th>\n",
              "      <th>fbs</th>\n",
              "      <th>restecg</th>\n",
              "      <th>thalach</th>\n",
              "      <th>exang</th>\n",
              "      <th>oldpeak</th>\n",
              "      <th>slope</th>\n",
              "      <th>ca</th>\n",
              "      <th>thal</th>\n",
              "      <th>target</th>\n",
              "    </tr>\n",
              "  </thead>\n",
              "  <tbody>\n",
              "    <tr>\n",
              "      <th>165</th>\n",
              "      <td>67.000000</td>\n",
              "      <td>1.0</td>\n",
              "      <td>0.0</td>\n",
              "      <td>160.0</td>\n",
              "      <td>286.0</td>\n",
              "      <td>0.0</td>\n",
              "      <td>0.0</td>\n",
              "      <td>108.0</td>\n",
              "      <td>1.0</td>\n",
              "      <td>1.5</td>\n",
              "      <td>1.0</td>\n",
              "      <td>3.0</td>\n",
              "      <td>2.0</td>\n",
              "      <td>0.0</td>\n",
              "    </tr>\n",
              "    <tr>\n",
              "      <th>166</th>\n",
              "      <td>67.000000</td>\n",
              "      <td>1.0</td>\n",
              "      <td>0.0</td>\n",
              "      <td>120.0</td>\n",
              "      <td>229.0</td>\n",
              "      <td>0.0</td>\n",
              "      <td>0.0</td>\n",
              "      <td>129.0</td>\n",
              "      <td>1.0</td>\n",
              "      <td>2.6</td>\n",
              "      <td>1.0</td>\n",
              "      <td>2.0</td>\n",
              "      <td>3.0</td>\n",
              "      <td>0.0</td>\n",
              "    </tr>\n",
              "    <tr>\n",
              "      <th>167</th>\n",
              "      <td>62.000000</td>\n",
              "      <td>0.0</td>\n",
              "      <td>0.0</td>\n",
              "      <td>140.0</td>\n",
              "      <td>268.0</td>\n",
              "      <td>0.0</td>\n",
              "      <td>0.0</td>\n",
              "      <td>160.0</td>\n",
              "      <td>0.0</td>\n",
              "      <td>3.6</td>\n",
              "      <td>0.0</td>\n",
              "      <td>2.0</td>\n",
              "      <td>2.0</td>\n",
              "      <td>0.0</td>\n",
              "    </tr>\n",
              "    <tr>\n",
              "      <th>168</th>\n",
              "      <td>54.337748</td>\n",
              "      <td>1.0</td>\n",
              "      <td>0.0</td>\n",
              "      <td>130.0</td>\n",
              "      <td>254.0</td>\n",
              "      <td>0.0</td>\n",
              "      <td>0.0</td>\n",
              "      <td>147.0</td>\n",
              "      <td>0.0</td>\n",
              "      <td>1.4</td>\n",
              "      <td>1.0</td>\n",
              "      <td>1.0</td>\n",
              "      <td>3.0</td>\n",
              "      <td>0.0</td>\n",
              "    </tr>\n",
              "    <tr>\n",
              "      <th>169</th>\n",
              "      <td>53.000000</td>\n",
              "      <td>1.0</td>\n",
              "      <td>0.0</td>\n",
              "      <td>140.0</td>\n",
              "      <td>203.0</td>\n",
              "      <td>1.0</td>\n",
              "      <td>0.0</td>\n",
              "      <td>155.0</td>\n",
              "      <td>1.0</td>\n",
              "      <td>3.1</td>\n",
              "      <td>0.0</td>\n",
              "      <td>0.0</td>\n",
              "      <td>3.0</td>\n",
              "      <td>0.0</td>\n",
              "    </tr>\n",
              "  </tbody>\n",
              "</table>\n",
              "</div>"
            ],
            "text/plain": [
              "           age  sex   cp  trestbps   chol  ...  oldpeak  slope   ca  thal  target\n",
              "165  67.000000  1.0  0.0     160.0  286.0  ...      1.5    1.0  3.0   2.0     0.0\n",
              "166  67.000000  1.0  0.0     120.0  229.0  ...      2.6    1.0  2.0   3.0     0.0\n",
              "167  62.000000  0.0  0.0     140.0  268.0  ...      3.6    0.0  2.0   2.0     0.0\n",
              "168  54.337748  1.0  0.0     130.0  254.0  ...      1.4    1.0  1.0   3.0     0.0\n",
              "169  53.000000  1.0  0.0     140.0  203.0  ...      3.1    0.0  0.0   3.0     0.0\n",
              "\n",
              "[5 rows x 14 columns]"
            ]
          },
          "metadata": {
            "tags": []
          },
          "execution_count": 197
        }
      ]
    },
    {
      "cell_type": "markdown",
      "metadata": {
        "id": "COs48eIb3WSm"
      },
      "source": [
        "##6.Compute the following statistics of all the features of all the partitions created in step-5:\r\n",
        "i) Mean\r\n",
        "ii) Median\r\n",
        "iii) Mode\r\n",
        "iv) Range\r\n",
        "v) Inter quartile Range\r\n",
        "vi) Standard Deviation"
      ]
    },
    {
      "cell_type": "code",
      "metadata": {
        "id": "2_PM1uPA3miL"
      },
      "source": [
        "FBL = hd"
      ],
      "execution_count": 103,
      "outputs": []
    },
    {
      "cell_type": "markdown",
      "metadata": {
        "id": "gp2XGqVN3WS2"
      },
      "source": [
        "**Mean**"
      ]
    },
    {
      "cell_type": "code",
      "metadata": {
        "colab": {
          "base_uri": "https://localhost:8080/",
          "height": 0
        },
        "id": "PkUvd7cd3WS2",
        "outputId": "87135148-d91a-4961-9bf8-658738b94c04"
      },
      "source": [
        "FBL.mean()"
      ],
      "execution_count": 104,
      "outputs": [
        {
          "output_type": "execute_result",
          "data": {
            "text/plain": [
              "age          56.652366\n",
              "sex           0.824818\n",
              "cp            0.488834\n",
              "trestbps    134.347295\n",
              "chol        251.549766\n",
              "fbs           0.154372\n",
              "restecg       0.445255\n",
              "thalach     139.363658\n",
              "exang         0.547445\n",
              "oldpeak       1.585677\n",
              "slope         1.170808\n",
              "ca            1.175182\n",
              "thal          2.562044\n",
              "target        0.000000\n",
              "dtype: float64"
            ]
          },
          "metadata": {
            "tags": []
          },
          "execution_count": 104
        }
      ]
    },
    {
      "cell_type": "markdown",
      "metadata": {
        "id": "fzGxwFFt3WS4"
      },
      "source": [
        "**Median**"
      ]
    },
    {
      "cell_type": "code",
      "metadata": {
        "colab": {
          "base_uri": "https://localhost:8080/",
          "height": 0
        },
        "id": "Y9yufgeU3WS5",
        "outputId": "f8c1cdf5-a152-479c-b15f-18837747e1c1"
      },
      "source": [
        "FBL.median(axis=0)"
      ],
      "execution_count": 105,
      "outputs": [
        {
          "output_type": "execute_result",
          "data": {
            "text/plain": [
              "age          58.0\n",
              "sex           1.0\n",
              "cp            0.0\n",
              "trestbps    130.0\n",
              "chol        249.0\n",
              "fbs           0.0\n",
              "restecg       0.0\n",
              "thalach     142.0\n",
              "exang         1.0\n",
              "oldpeak       1.4\n",
              "slope         1.0\n",
              "ca            1.0\n",
              "thal          3.0\n",
              "target        0.0\n",
              "dtype: float64"
            ]
          },
          "metadata": {
            "tags": []
          },
          "execution_count": 105
        }
      ]
    },
    {
      "cell_type": "markdown",
      "metadata": {
        "id": "9YSfm35N3WS5"
      },
      "source": [
        "**Mode**"
      ]
    },
    {
      "cell_type": "code",
      "metadata": {
        "colab": {
          "base_uri": "https://localhost:8080/",
          "height": 142
        },
        "id": "KVNWxHFi3WS6",
        "outputId": "a1c90765-462b-4f65-9e53-e2261ebc3b32"
      },
      "source": [
        "FBL.mode()"
      ],
      "execution_count": 106,
      "outputs": [
        {
          "output_type": "execute_result",
          "data": {
            "text/html": [
              "<div>\n",
              "<style scoped>\n",
              "    .dataframe tbody tr th:only-of-type {\n",
              "        vertical-align: middle;\n",
              "    }\n",
              "\n",
              "    .dataframe tbody tr th {\n",
              "        vertical-align: top;\n",
              "    }\n",
              "\n",
              "    .dataframe thead th {\n",
              "        text-align: right;\n",
              "    }\n",
              "</style>\n",
              "<table border=\"1\" class=\"dataframe\">\n",
              "  <thead>\n",
              "    <tr style=\"text-align: right;\">\n",
              "      <th></th>\n",
              "      <th>age</th>\n",
              "      <th>sex</th>\n",
              "      <th>cp</th>\n",
              "      <th>trestbps</th>\n",
              "      <th>chol</th>\n",
              "      <th>fbs</th>\n",
              "      <th>restecg</th>\n",
              "      <th>thalach</th>\n",
              "      <th>exang</th>\n",
              "      <th>oldpeak</th>\n",
              "      <th>slope</th>\n",
              "      <th>ca</th>\n",
              "      <th>thal</th>\n",
              "      <th>target</th>\n",
              "    </tr>\n",
              "  </thead>\n",
              "  <tbody>\n",
              "    <tr>\n",
              "      <th>0</th>\n",
              "      <td>58.0</td>\n",
              "      <td>1.0</td>\n",
              "      <td>0.0</td>\n",
              "      <td>140.0</td>\n",
              "      <td>212.0</td>\n",
              "      <td>0.0</td>\n",
              "      <td>0.0</td>\n",
              "      <td>132.0</td>\n",
              "      <td>1.0</td>\n",
              "      <td>0.0</td>\n",
              "      <td>1.0</td>\n",
              "      <td>0.0</td>\n",
              "      <td>3.0</td>\n",
              "      <td>0.0</td>\n",
              "    </tr>\n",
              "    <tr>\n",
              "      <th>1</th>\n",
              "      <td>NaN</td>\n",
              "      <td>NaN</td>\n",
              "      <td>NaN</td>\n",
              "      <td>NaN</td>\n",
              "      <td>254.0</td>\n",
              "      <td>NaN</td>\n",
              "      <td>NaN</td>\n",
              "      <td>NaN</td>\n",
              "      <td>NaN</td>\n",
              "      <td>NaN</td>\n",
              "      <td>NaN</td>\n",
              "      <td>1.0</td>\n",
              "      <td>NaN</td>\n",
              "      <td>NaN</td>\n",
              "    </tr>\n",
              "    <tr>\n",
              "      <th>2</th>\n",
              "      <td>NaN</td>\n",
              "      <td>NaN</td>\n",
              "      <td>NaN</td>\n",
              "      <td>NaN</td>\n",
              "      <td>282.0</td>\n",
              "      <td>NaN</td>\n",
              "      <td>NaN</td>\n",
              "      <td>NaN</td>\n",
              "      <td>NaN</td>\n",
              "      <td>NaN</td>\n",
              "      <td>NaN</td>\n",
              "      <td>NaN</td>\n",
              "      <td>NaN</td>\n",
              "      <td>NaN</td>\n",
              "    </tr>\n",
              "  </tbody>\n",
              "</table>\n",
              "</div>"
            ],
            "text/plain": [
              "    age  sex   cp  trestbps   chol  ...  oldpeak  slope   ca  thal  target\n",
              "0  58.0  1.0  0.0     140.0  212.0  ...      0.0    1.0  0.0   3.0     0.0\n",
              "1   NaN  NaN  NaN       NaN  254.0  ...      NaN    NaN  1.0   NaN     NaN\n",
              "2   NaN  NaN  NaN       NaN  282.0  ...      NaN    NaN  NaN   NaN     NaN\n",
              "\n",
              "[3 rows x 14 columns]"
            ]
          },
          "metadata": {
            "tags": []
          },
          "execution_count": 106
        }
      ]
    },
    {
      "cell_type": "markdown",
      "metadata": {
        "id": "UxQj2qln3WS6"
      },
      "source": [
        "**Range**\r\n"
      ]
    },
    {
      "cell_type": "code",
      "metadata": {
        "colab": {
          "base_uri": "https://localhost:8080/",
          "height": 0
        },
        "id": "cSXyPOLt3WS7",
        "outputId": "0d396bf6-04c5-430b-d224-889d8a864a7a"
      },
      "source": [
        "FBL.max()-FBL.min()"
      ],
      "execution_count": 107,
      "outputs": [
        {
          "output_type": "execute_result",
          "data": {
            "text/plain": [
              "age          42.0\n",
              "sex           1.0\n",
              "cp            3.0\n",
              "trestbps    100.0\n",
              "chol        278.0\n",
              "fbs           1.0\n",
              "restecg       2.0\n",
              "thalach     124.0\n",
              "exang         1.0\n",
              "oldpeak       6.2\n",
              "slope         2.0\n",
              "ca            4.0\n",
              "thal          2.0\n",
              "target        0.0\n",
              "dtype: float64"
            ]
          },
          "metadata": {
            "tags": []
          },
          "execution_count": 107
        }
      ]
    },
    {
      "cell_type": "markdown",
      "metadata": {
        "id": "FCqRAUaY3WS8"
      },
      "source": [
        "**InterQuartile Range**\r\n"
      ]
    },
    {
      "cell_type": "code",
      "metadata": {
        "colab": {
          "base_uri": "https://localhost:8080/",
          "height": 0
        },
        "id": "Tab6jBXC3WS8",
        "outputId": "1c1d68db-ae13-41d5-9967-0a3937d487ab"
      },
      "source": [
        "Q3 = FBL.quantile(0.75)\r\n",
        "Q1 = FBL.quantile(0.25)\r\n",
        "Q3-Q1"
      ],
      "execution_count": 108,
      "outputs": [
        {
          "output_type": "execute_result",
          "data": {
            "text/plain": [
              "age          9.000000\n",
              "sex          0.000000\n",
              "cp           0.970199\n",
              "trestbps    24.000000\n",
              "chol        65.000000\n",
              "fbs          0.000000\n",
              "restecg      1.000000\n",
              "thalach     31.000000\n",
              "exang        1.000000\n",
              "oldpeak      1.900000\n",
              "slope        1.000000\n",
              "ca           2.000000\n",
              "thal         1.000000\n",
              "target       0.000000\n",
              "dtype: float64"
            ]
          },
          "metadata": {
            "tags": []
          },
          "execution_count": 108
        }
      ]
    },
    {
      "cell_type": "markdown",
      "metadata": {
        "id": "OK3EGEqt3WS8"
      },
      "source": [
        "**Standard Deviation**"
      ]
    },
    {
      "cell_type": "code",
      "metadata": {
        "colab": {
          "base_uri": "https://localhost:8080/",
          "height": 0
        },
        "id": "D0EqIKVb3WS9",
        "outputId": "3b9dd522-965e-4dd0-90ff-87a452595a88"
      },
      "source": [
        "t = FBL.std()\r\n",
        "print(t)"
      ],
      "execution_count": 109,
      "outputs": [
        {
          "output_type": "stream",
          "text": [
            "age          7.973918\n",
            "sex          0.381518\n",
            "cp           0.908311\n",
            "trestbps    18.770153\n",
            "chol        49.438057\n",
            "fbs          0.361343\n",
            "restecg      0.541236\n",
            "thalach     22.362978\n",
            "exang        0.499570\n",
            "oldpeak      1.304990\n",
            "slope        0.563364\n",
            "ca           1.042465\n",
            "thal         0.651484\n",
            "target       0.000000\n",
            "dtype: float64\n"
          ],
          "name": "stdout"
        }
      ]
    },
    {
      "cell_type": "markdown",
      "metadata": {
        "id": "GlLDnLgC60au"
      },
      "source": [
        "##6.Compute the following statistics of all the features of all the partitions created in step-5:\r\n",
        "i) Mean\r\n",
        "ii) Median\r\n",
        "iii) Mode\r\n",
        "iv) Range\r\n",
        "v) Inter quartile Range\r\n",
        "vi) Standard Deviation"
      ]
    },
    {
      "cell_type": "code",
      "metadata": {
        "id": "TmM7Ri3y60bI"
      },
      "source": [
        "FBL = no_hd"
      ],
      "execution_count": 96,
      "outputs": []
    },
    {
      "cell_type": "markdown",
      "metadata": {
        "id": "CU3HmlgU60bJ"
      },
      "source": [
        "**Mean**"
      ]
    },
    {
      "cell_type": "code",
      "metadata": {
        "colab": {
          "base_uri": "https://localhost:8080/",
          "height": 0
        },
        "id": "DhLhPcXM60bJ",
        "outputId": "fea7a6ed-7649-442d-8208-59e25d70bc3b"
      },
      "source": [
        "FBL.mean()"
      ],
      "execution_count": 97,
      "outputs": [
        {
          "output_type": "execute_result",
          "data": {
            "text/plain": [
              "age          52.496970\n",
              "sex           0.561710\n",
              "cp            1.375758\n",
              "trestbps    129.303030\n",
              "chol        242.230303\n",
              "fbs           0.139394\n",
              "restecg       0.591070\n",
              "thalach     158.466667\n",
              "exang         0.141381\n",
              "oldpeak       0.583030\n",
              "slope         1.593939\n",
              "ca            0.368071\n",
              "thal          2.123119\n",
              "target        1.000000\n",
              "dtype: float64"
            ]
          },
          "metadata": {
            "tags": []
          },
          "execution_count": 97
        }
      ]
    },
    {
      "cell_type": "markdown",
      "metadata": {
        "id": "KjtpLyux60bK"
      },
      "source": [
        "**Median**"
      ]
    },
    {
      "cell_type": "code",
      "metadata": {
        "colab": {
          "base_uri": "https://localhost:8080/",
          "height": 0
        },
        "id": "XuBu-ZAd60bL",
        "outputId": "9d1de039-c4ba-4445-e164-2f9cebd01ec7"
      },
      "source": [
        "FBL.median(axis=0)"
      ],
      "execution_count": 98,
      "outputs": [
        {
          "output_type": "execute_result",
          "data": {
            "text/plain": [
              "age          52.0\n",
              "sex           1.0\n",
              "cp            2.0\n",
              "trestbps    130.0\n",
              "chol        234.0\n",
              "fbs           0.0\n",
              "restecg       1.0\n",
              "thalach     161.0\n",
              "exang         0.0\n",
              "oldpeak       0.2\n",
              "slope         2.0\n",
              "ca            0.0\n",
              "thal          2.0\n",
              "target        1.0\n",
              "dtype: float64"
            ]
          },
          "metadata": {
            "tags": []
          },
          "execution_count": 98
        }
      ]
    },
    {
      "cell_type": "markdown",
      "metadata": {
        "id": "vMM71bQL60bM"
      },
      "source": [
        "**Mode**"
      ]
    },
    {
      "cell_type": "code",
      "metadata": {
        "colab": {
          "base_uri": "https://localhost:8080/",
          "height": 235
        },
        "id": "u4G0iWIr60bM",
        "outputId": "210aacd6-8f40-4bec-8e2b-acf8f9cf06e1"
      },
      "source": [
        "FBL.mode()"
      ],
      "execution_count": 99,
      "outputs": [
        {
          "output_type": "execute_result",
          "data": {
            "text/html": [
              "<div>\n",
              "<style scoped>\n",
              "    .dataframe tbody tr th:only-of-type {\n",
              "        vertical-align: middle;\n",
              "    }\n",
              "\n",
              "    .dataframe tbody tr th {\n",
              "        vertical-align: top;\n",
              "    }\n",
              "\n",
              "    .dataframe thead th {\n",
              "        text-align: right;\n",
              "    }\n",
              "</style>\n",
              "<table border=\"1\" class=\"dataframe\">\n",
              "  <thead>\n",
              "    <tr style=\"text-align: right;\">\n",
              "      <th></th>\n",
              "      <th>age</th>\n",
              "      <th>sex</th>\n",
              "      <th>cp</th>\n",
              "      <th>trestbps</th>\n",
              "      <th>chol</th>\n",
              "      <th>fbs</th>\n",
              "      <th>restecg</th>\n",
              "      <th>thalach</th>\n",
              "      <th>exang</th>\n",
              "      <th>oldpeak</th>\n",
              "      <th>slope</th>\n",
              "      <th>ca</th>\n",
              "      <th>thal</th>\n",
              "      <th>target</th>\n",
              "    </tr>\n",
              "  </thead>\n",
              "  <tbody>\n",
              "    <tr>\n",
              "      <th>0</th>\n",
              "      <td>54.0</td>\n",
              "      <td>1.0</td>\n",
              "      <td>2.0</td>\n",
              "      <td>120.0</td>\n",
              "      <td>197.0</td>\n",
              "      <td>0.0</td>\n",
              "      <td>1.0</td>\n",
              "      <td>162.0</td>\n",
              "      <td>0.0</td>\n",
              "      <td>0.0</td>\n",
              "      <td>2.0</td>\n",
              "      <td>0.0</td>\n",
              "      <td>2.0</td>\n",
              "      <td>1.0</td>\n",
              "    </tr>\n",
              "    <tr>\n",
              "      <th>1</th>\n",
              "      <td>NaN</td>\n",
              "      <td>NaN</td>\n",
              "      <td>NaN</td>\n",
              "      <td>130.0</td>\n",
              "      <td>204.0</td>\n",
              "      <td>NaN</td>\n",
              "      <td>NaN</td>\n",
              "      <td>NaN</td>\n",
              "      <td>NaN</td>\n",
              "      <td>NaN</td>\n",
              "      <td>NaN</td>\n",
              "      <td>NaN</td>\n",
              "      <td>NaN</td>\n",
              "      <td>NaN</td>\n",
              "    </tr>\n",
              "    <tr>\n",
              "      <th>2</th>\n",
              "      <td>NaN</td>\n",
              "      <td>NaN</td>\n",
              "      <td>NaN</td>\n",
              "      <td>NaN</td>\n",
              "      <td>211.0</td>\n",
              "      <td>NaN</td>\n",
              "      <td>NaN</td>\n",
              "      <td>NaN</td>\n",
              "      <td>NaN</td>\n",
              "      <td>NaN</td>\n",
              "      <td>NaN</td>\n",
              "      <td>NaN</td>\n",
              "      <td>NaN</td>\n",
              "      <td>NaN</td>\n",
              "    </tr>\n",
              "    <tr>\n",
              "      <th>3</th>\n",
              "      <td>NaN</td>\n",
              "      <td>NaN</td>\n",
              "      <td>NaN</td>\n",
              "      <td>NaN</td>\n",
              "      <td>226.0</td>\n",
              "      <td>NaN</td>\n",
              "      <td>NaN</td>\n",
              "      <td>NaN</td>\n",
              "      <td>NaN</td>\n",
              "      <td>NaN</td>\n",
              "      <td>NaN</td>\n",
              "      <td>NaN</td>\n",
              "      <td>NaN</td>\n",
              "      <td>NaN</td>\n",
              "    </tr>\n",
              "    <tr>\n",
              "      <th>4</th>\n",
              "      <td>NaN</td>\n",
              "      <td>NaN</td>\n",
              "      <td>NaN</td>\n",
              "      <td>NaN</td>\n",
              "      <td>234.0</td>\n",
              "      <td>NaN</td>\n",
              "      <td>NaN</td>\n",
              "      <td>NaN</td>\n",
              "      <td>NaN</td>\n",
              "      <td>NaN</td>\n",
              "      <td>NaN</td>\n",
              "      <td>NaN</td>\n",
              "      <td>NaN</td>\n",
              "      <td>NaN</td>\n",
              "    </tr>\n",
              "    <tr>\n",
              "      <th>5</th>\n",
              "      <td>NaN</td>\n",
              "      <td>NaN</td>\n",
              "      <td>NaN</td>\n",
              "      <td>NaN</td>\n",
              "      <td>240.0</td>\n",
              "      <td>NaN</td>\n",
              "      <td>NaN</td>\n",
              "      <td>NaN</td>\n",
              "      <td>NaN</td>\n",
              "      <td>NaN</td>\n",
              "      <td>NaN</td>\n",
              "      <td>NaN</td>\n",
              "      <td>NaN</td>\n",
              "      <td>NaN</td>\n",
              "    </tr>\n",
              "  </tbody>\n",
              "</table>\n",
              "</div>"
            ],
            "text/plain": [
              "    age  sex   cp  trestbps   chol  ...  oldpeak  slope   ca  thal  target\n",
              "0  54.0  1.0  2.0     120.0  197.0  ...      0.0    2.0  0.0   2.0     1.0\n",
              "1   NaN  NaN  NaN     130.0  204.0  ...      NaN    NaN  NaN   NaN     NaN\n",
              "2   NaN  NaN  NaN       NaN  211.0  ...      NaN    NaN  NaN   NaN     NaN\n",
              "3   NaN  NaN  NaN       NaN  226.0  ...      NaN    NaN  NaN   NaN     NaN\n",
              "4   NaN  NaN  NaN       NaN  234.0  ...      NaN    NaN  NaN   NaN     NaN\n",
              "5   NaN  NaN  NaN       NaN  240.0  ...      NaN    NaN  NaN   NaN     NaN\n",
              "\n",
              "[6 rows x 14 columns]"
            ]
          },
          "metadata": {
            "tags": []
          },
          "execution_count": 99
        }
      ]
    },
    {
      "cell_type": "markdown",
      "metadata": {
        "id": "mhVwDCi160bN"
      },
      "source": [
        "**Range**\r\n"
      ]
    },
    {
      "cell_type": "code",
      "metadata": {
        "colab": {
          "base_uri": "https://localhost:8080/",
          "height": 0
        },
        "id": "a4ERAeMo60bN",
        "outputId": "6fb9eff4-c444-43b5-fe48-a0b5463de0da"
      },
      "source": [
        "FBL.max()-FBL.min()"
      ],
      "execution_count": 100,
      "outputs": [
        {
          "output_type": "execute_result",
          "data": {
            "text/plain": [
              "age          47.0\n",
              "sex           1.0\n",
              "cp            3.0\n",
              "trestbps     86.0\n",
              "chol        438.0\n",
              "fbs           1.0\n",
              "restecg       2.0\n",
              "thalach     106.0\n",
              "exang         1.0\n",
              "oldpeak       4.2\n",
              "slope         2.0\n",
              "ca            4.0\n",
              "thal          3.0\n",
              "target        0.0\n",
              "dtype: float64"
            ]
          },
          "metadata": {
            "tags": []
          },
          "execution_count": 100
        }
      ]
    },
    {
      "cell_type": "markdown",
      "metadata": {
        "id": "Id7KTlQN60bO"
      },
      "source": [
        "**InterQuartile Range**\r\n"
      ]
    },
    {
      "cell_type": "code",
      "metadata": {
        "colab": {
          "base_uri": "https://localhost:8080/"
        },
        "id": "E9TldCNI60bO",
        "outputId": "1abfeaab-4e46-47c0-c9de-45fe1cf7ef72"
      },
      "source": [
        "Q3 = FBL.quantile(0.75)\r\n",
        "Q1 = FBL.quantile(0.25)\r\n",
        "Q3-Q1"
      ],
      "execution_count": 210,
      "outputs": [
        {
          "output_type": "execute_result",
          "data": {
            "text/plain": [
              "age          9.000000\n",
              "sex          0.000000\n",
              "cp           0.970199\n",
              "trestbps    24.000000\n",
              "chol        65.000000\n",
              "fbs          0.000000\n",
              "restecg      1.000000\n",
              "thalach     31.000000\n",
              "exang        1.000000\n",
              "oldpeak      1.900000\n",
              "slope        1.000000\n",
              "ca           2.000000\n",
              "thal         1.000000\n",
              "target       0.000000\n",
              "dtype: float64"
            ]
          },
          "metadata": {
            "tags": []
          },
          "execution_count": 210
        }
      ]
    },
    {
      "cell_type": "markdown",
      "metadata": {
        "id": "TC3L49zU60bO"
      },
      "source": [
        "**Standard Deviation**"
      ]
    },
    {
      "cell_type": "code",
      "metadata": {
        "colab": {
          "base_uri": "https://localhost:8080/",
          "height": 0
        },
        "id": "pSCQm5wE60bP",
        "outputId": "b3b0e2ef-7d6b-44f1-b0b0-0879706897ab"
      },
      "source": [
        "t = FBL.std()\r\n",
        "print(t)"
      ],
      "execution_count": 102,
      "outputs": [
        {
          "output_type": "stream",
          "text": [
            "age          9.550651\n",
            "sex          0.496358\n",
            "cp           0.952222\n",
            "trestbps    16.169613\n",
            "chol        53.552872\n",
            "fbs          0.347412\n",
            "restecg      0.503840\n",
            "thalach     19.174276\n",
            "exang        0.347547\n",
            "oldpeak      0.780683\n",
            "slope        0.593635\n",
            "ca           0.848894\n",
            "thal         0.465897\n",
            "target       0.000000\n",
            "dtype: float64\n"
          ],
          "name": "stdout"
        }
      ]
    },
    {
      "cell_type": "markdown",
      "metadata": {
        "id": "xxczfHFdRDPB"
      },
      "source": [
        "##7. Give your comments or inference by comparing the statistics obtained in step-4 and 6"
      ]
    },
    {
      "cell_type": "markdown",
      "metadata": {
        "id": "xl9ppqCD88vd"
      },
      "source": [
        "Inferences Obtained by comparing the statistics obtained by dividing the Dataset into Heart disease patients and Healthy patients\r\n",
        "\r\n",
        "*   Chances of heart disease increases with Cholestrol level .\r\n",
        "*   Having maximum heart rate achieved increases , More chances of being prone to Heart Diseases\r\n",
        "*   As ST depression induced by exercise relative to rest decreases the Heart \r\n",
        "disease Rate increases\r\n",
        " \r\n",
        "\r\n",
        "\r\n",
        "\r\n",
        "\r\n"
      ]
    },
    {
      "cell_type": "markdown",
      "metadata": {
        "id": "0Oyyl2lHb59d"
      },
      "source": [
        "##8 & 9. Construct a line plots (use the dataset read in step-1) and 9.Use appropriate X axis, y axis labels, title, and Legend (bottom right) for the graph generated.\r\n",
        "for Age Vs cp: chest pain type, cp: chest\r\n",
        "pain type vs chol: serum cholestoral, Age vs thal, and sex vs cp: chest pain type attributes using\r\n",
        "the plot style ‘ggplot’."
      ]
    },
    {
      "cell_type": "markdown",
      "metadata": {
        "id": "vnaqyiLScgj4"
      },
      "source": [
        "###AGE VS Chest pain type"
      ]
    },
    {
      "cell_type": "code",
      "metadata": {
        "colab": {
          "base_uri": "https://localhost:8080/",
          "height": 359
        },
        "id": "QIl-I8r8cl3r",
        "outputId": "d409f649-c67e-4d7a-9857-86b5a8acfd73"
      },
      "source": [
        "plt.figure(figsize=(10,5))\r\n",
        "plt.title(\"AGE VS Chest pain type\",fontsize=25)\r\n",
        "plt.style.use('ggplot')\r\n",
        "plt.xlabel(\"Age\",fontsize=10)\r\n",
        "plt.ylabel(\"CP\",fontsize=10)\r\n",
        "ko = df.sort_values(by=['age'])\r\n",
        "plt.bar(ko.age,ko.cp,label='Patients')\r\n",
        "plt.legend(loc='lower right')\r\n",
        "plt.show()\r\n"
      ],
      "execution_count": 237,
      "outputs": [
        {
          "output_type": "display_data",
          "data": {
            "image/png": "[encoded data removed]",
            "text/plain": [
              "<Figure size 720x360 with 1 Axes>"
            ]
          },
          "metadata": {
            "tags": []
          }
        }
      ]
    },
    {
      "cell_type": "markdown",
      "metadata": {
        "id": "g6L9hhUsYNaI"
      },
      "source": [
        "`Plotting datas of Patients with Heart disease and Healthy`"
      ]
    },
    {
      "cell_type": "code",
      "metadata": {
        "colab": {
          "base_uri": "https://localhost:8080/",
          "height": 413
        },
        "id": "u6G-PcRFYPeS",
        "outputId": "8af035a6-c0ac-47e7-b514-65e7b96c1442"
      },
      "source": [
        "plt.figure(figsize=(10,5))\r\n",
        "plt.style.use('ggplot')\r\n",
        "sns.lineplot(df[\"age\"],df[\"cp\"],linewidth=2,hue = df['target'],ci = None,palette=['red','blue'])\r\n",
        "plt.xlabel(\"Age\",fontsize=10)\r\n",
        "plt.ylabel(\"CP\",fontsize=10)\r\n",
        "plt.title(\"AGE VS Chest pain type\",fontsize=25)\r\n",
        "plt.legend(labels=['Heart Disease Patient','Healthy Patient'],frameon=True,fontsize='large',bbox_to_anchor=(1.05,0.2),loc=2)\r\n",
        "plt.show()"
      ],
      "execution_count": 205,
      "outputs": [
        {
          "output_type": "stream",
          "text": [
            "/usr/local/lib/python3.6/dist-packages/seaborn/_decorators.py:43: FutureWarning: Pass the following variables as keyword args: x, y. From version 0.12, the only valid positional argument will be `data`, and passing other arguments without an explicit keyword will result in an error or misinterpretation.\n",
            "  FutureWarning\n"
          ],
          "name": "stderr"
        },
        {
          "output_type": "display_data",
          "data": {
            "image/png": "[encoded data removed]",
            "text/plain": [
              "<Figure size 720x360 with 1 Axes>"
            ]
          },
          "metadata": {
            "tags": []
          }
        }
      ]
    },
    {
      "cell_type": "markdown",
      "metadata": {
        "id": "pAsdqNBmspnC"
      },
      "source": [
        "###Chest pain type vs Serum cholestoral"
      ]
    },
    {
      "cell_type": "code",
      "metadata": {
        "colab": {
          "base_uri": "https://localhost:8080/",
          "height": 354
        },
        "id": "mWlv06UStBdh",
        "outputId": "7c649439-a0a2-461b-82b8-3891cb6f9c50"
      },
      "source": [
        "plt.figure(figsize=(10,5))\r\n",
        "plt.title(\"Chest pain type vs Serum cholestoral\")\r\n",
        "plt.style.use('ggplot')\r\n",
        "plt.xlabel(\"CP\")\r\n",
        "plt.ylabel(\"Chol\")\r\n",
        "ko = df.sort_values(by=['cp'])\r\n",
        "plt.plot(ko.cp,ko.chol,'b',label='Patients')\r\n",
        "plt.legend(loc='lower right')\r\n",
        "plt.show()"
      ],
      "execution_count": 192,
      "outputs": [
        {
          "output_type": "display_data",
          "data": {
            "image/png": "[encoded data removed]",
            "text/plain": [
              "<Figure size 720x360 with 1 Axes>"
            ]
          },
          "metadata": {
            "tags": []
          }
        }
      ]
    },
    {
      "cell_type": "code",
      "metadata": {
        "colab": {
          "base_uri": "https://localhost:8080/",
          "height": 410
        },
        "id": "qG20MZNF8vVt",
        "outputId": "6009b141-26fb-40d5-ac17-7359a558c639"
      },
      "source": [
        "plt.figure(figsize=(10,5))\r\n",
        "plt.title(\"Chest pain type vs Serum cholestoral\")\r\n",
        "plt.style.use('ggplot')\r\n",
        "plt.xlabel(\"CP\")\r\n",
        "plt.ylabel(\"Chol\")\r\n",
        "ko = df.sort_values(by=['cp'])\r\n",
        "sns.scatterplot(ko.cp,ko.chol,label='Patients')\r\n",
        "\r\n",
        "plt.legend(loc='lower right')\r\n",
        "plt.show()"
      ],
      "execution_count": 201,
      "outputs": [
        {
          "output_type": "stream",
          "text": [
            "/usr/local/lib/python3.6/dist-packages/seaborn/_decorators.py:43: FutureWarning: Pass the following variables as keyword args: x, y. From version 0.12, the only valid positional argument will be `data`, and passing other arguments without an explicit keyword will result in an error or misinterpretation.\n",
            "  FutureWarning\n"
          ],
          "name": "stderr"
        },
        {
          "output_type": "display_data",
          "data": {
            "image/png": "[encoded data removed]",
            "text/plain": [
              "<Figure size 720x360 with 1 Axes>"
            ]
          },
          "metadata": {
            "tags": []
          }
        }
      ]
    },
    {
      "cell_type": "markdown",
      "metadata": {
        "id": "QOCGRYWJqvlZ"
      },
      "source": [
        "`Plotting datas of Patients with Heart disease and Healthy`"
      ]
    },
    {
      "cell_type": "code",
      "metadata": {
        "colab": {
          "base_uri": "https://localhost:8080/",
          "height": 414
        },
        "id": "-hYaZPycaULB",
        "outputId": "7a15be09-0636-432e-cb63-e2c143c3e593"
      },
      "source": [
        "plt.figure(figsize=(10,5))\r\n",
        "plt.style.use('ggplot')\r\n",
        "sns.lineplot(df[\"cp\"],df[\"chol\"],linewidth=2,hue = df['target'],ci=None,palette=['red','blue'])\r\n",
        "plt.xlabel(\"CP\",fontsize=10)\r\n",
        "plt.ylabel(\"Chol\",fontsize=10)\r\n",
        "plt.title(\"Chest pain type vs Serum cholestoral\",fontsize=25) \r\n",
        "plt.legend(labels=['Heart Disease Patient','Healthy Patient'],frameon=True,fontsize='large',bbox_to_anchor=(1.05,0.2),loc=2)\r\n",
        "plt.show()"
      ],
      "execution_count": 182,
      "outputs": [
        {
          "output_type": "stream",
          "text": [
            "/usr/local/lib/python3.6/dist-packages/seaborn/_decorators.py:43: FutureWarning: Pass the following variables as keyword args: x, y. From version 0.12, the only valid positional argument will be `data`, and passing other arguments without an explicit keyword will result in an error or misinterpretation.\n",
            "  FutureWarning\n"
          ],
          "name": "stderr"
        },
        {
          "output_type": "display_data",
          "data": {
            "image/png": "[encoded data removed]",
            "text/plain": [
              "<Figure size 720x360 with 1 Axes>"
            ]
          },
          "metadata": {
            "tags": []
          }
        }
      ]
    },
    {
      "cell_type": "markdown",
      "metadata": {
        "id": "5gRrYmp5vY36"
      },
      "source": [
        "###Age vs thal"
      ]
    },
    {
      "cell_type": "code",
      "metadata": {
        "colab": {
          "base_uri": "https://localhost:8080/",
          "height": 298
        },
        "id": "bAlC6UqQvhyL",
        "outputId": "9cb03a76-e6b4-4561-b947-66440c5c2f88"
      },
      "source": [
        "plt.title(\"Age vs thal\")\r\n",
        "plt.style.use('ggplot')\r\n",
        "plt.xlabel(\"Age\")\r\n",
        "plt.ylabel(\"thal\")\r\n",
        "ko = df.sort_values(by=['age'])\r\n",
        "plt.plot(ko.age,ko.thal,'r',label='Patients')\r\n",
        "plt.legend(loc='lower right')\r\n",
        "plt.show()"
      ],
      "execution_count": 30,
      "outputs": [
        {
          "output_type": "display_data",
          "data": {
            "image/png": "[encoded data removed]",
            "text/plain": [
              "<Figure size 432x288 with 1 Axes>"
            ]
          },
          "metadata": {
            "tags": []
          }
        }
      ]
    },
    {
      "cell_type": "markdown",
      "metadata": {
        "id": "dVbDuRJok1aH"
      },
      "source": [
        "`Plotting datas of Patients with Heart disease and Healthy`"
      ]
    },
    {
      "cell_type": "code",
      "metadata": {
        "colab": {
          "base_uri": "https://localhost:8080/",
          "height": 414
        },
        "id": "EiVkIv6Qk3zX",
        "outputId": "461a5c3f-8bde-40a6-9768-f8b5f523956e"
      },
      "source": [
        "plt.figure(figsize=(10,5))\r\n",
        "plt.style.use('ggplot')\r\n",
        "sns.lineplot(df[\"age\"],df[\"thal\"],linewidth=2,hue = df['target'],ci=None,palette=['red','blue'])\r\n",
        "plt.xlabel(\"Age\",fontsize=10)\r\n",
        "plt.ylabel(\"Thal\",fontsize=10)\r\n",
        "plt.title(\"Age vs thal\",fontsize=25)\r\n",
        "plt.legend(labels=['Heart Disease Patient','Healthy Patient'],frameon=True,fontsize='large',bbox_to_anchor=(1.05,0.2),loc=2)\r\n",
        "plt.show()"
      ],
      "execution_count": 183,
      "outputs": [
        {
          "output_type": "stream",
          "text": [
            "/usr/local/lib/python3.6/dist-packages/seaborn/_decorators.py:43: FutureWarning: Pass the following variables as keyword args: x, y. From version 0.12, the only valid positional argument will be `data`, and passing other arguments without an explicit keyword will result in an error or misinterpretation.\n",
            "  FutureWarning\n"
          ],
          "name": "stderr"
        },
        {
          "output_type": "display_data",
          "data": {
            "image/png": "[encoded data removed]",
            "text/plain": [
              "<Figure size 720x360 with 1 Axes>"
            ]
          },
          "metadata": {
            "tags": []
          }
        }
      ]
    },
    {
      "cell_type": "markdown",
      "metadata": {
        "id": "MQM5pbxRwK_5"
      },
      "source": [
        "###Sex vs Chest pain type"
      ]
    },
    {
      "cell_type": "code",
      "metadata": {
        "colab": {
          "base_uri": "https://localhost:8080/",
          "height": 354
        },
        "id": "KqBPbiiHwS5q",
        "outputId": "08f71217-2c0f-43da-bec2-c31f70074c2c"
      },
      "source": [
        "plt.figure(figsize=(10,5))\r\n",
        "plt.title(\"Sex VS Chest pain type\")\r\n",
        "plt.style.use('ggplot')\r\n",
        "plt.xlabel(\"Sex\")\r\n",
        "plt.ylabel(\"CP\")\r\n",
        "ko = df.sort_values(by=['sex'])\r\n",
        "plt.plot(ko.sex,ko.cp,'g-',label='Patients')\r\n",
        "plt.legend(loc='lower right') \r\n",
        "plt.show()"
      ],
      "execution_count": 127,
      "outputs": [
        {
          "output_type": "display_data",
          "data": {
            "image/png": "[encoded data removed]",
            "text/plain": [
              "<Figure size 720x360 with 1 Axes>"
            ]
          },
          "metadata": {
            "tags": []
          }
        }
      ]
    },
    {
      "cell_type": "code",
      "metadata": {
        "colab": {
          "base_uri": "https://localhost:8080/",
          "height": 414
        },
        "id": "JTUVQA9zcDN2",
        "outputId": "ba0dcbac-7420-4c21-90eb-6a9f18937ce1"
      },
      "source": [
        "plt.figure(figsize=(10,5))\r\n",
        "plt.style.use('ggplot')\r\n",
        "# sns.lineplot(df[\"sex\"],df[\"cp\"],linewidth=2,hue = df['target'],ci=None,palette=['red','blue'])\r\n",
        "sns.violinplot(df.sex,df.cp)\r\n",
        "plt.xlabel(\"sex\",fontsize=10)\r\n",
        "plt.ylabel(\"cp\",fontsize=10)\r\n",
        "plt.title(\"Sex VS Chest pain type\",fontsize=25)\r\n",
        "# plt.legend(labels=['Heart Disease','Healthy'],frameon=True,fontsize='large',bbox_to_anchor=(1.05,0.2),loc=2)\r\n",
        "plt.show()"
      ],
      "execution_count": 204,
      "outputs": [
        {
          "output_type": "stream",
          "text": [
            "/usr/local/lib/python3.6/dist-packages/seaborn/_decorators.py:43: FutureWarning: Pass the following variables as keyword args: x, y. From version 0.12, the only valid positional argument will be `data`, and passing other arguments without an explicit keyword will result in an error or misinterpretation.\n",
            "  FutureWarning\n"
          ],
          "name": "stderr"
        },
        {
          "output_type": "display_data",
          "data": {
            "image/png": "[encoded data removed]",
            "text/plain": [
              "<Figure size 720x360 with 1 Axes>"
            ]
          },
          "metadata": {
            "tags": []
          }
        }
      ]
    },
    {
      "cell_type": "markdown",
      "metadata": {
        "id": "asEINd_rbtPM"
      },
      "source": [
        "##10 Give your observations (or) inferences on the relationship between the features based on the line plots constructed in step-8."
      ]
    },
    {
      "cell_type": "markdown",
      "metadata": {
        "id": "VZQqzzNS4NIv"
      },
      "source": [
        "**AGE VS CP :**\r\n",
        "\r\n",
        "*   People wthin age range of 40 and 70 have most chest pain .   \r\n",
        "\r\n",
        "*   Patients with Heart disease  have chest paintypes below 2 , whereas Healthy Patients have chest paintypes of above 1 .\r\n"
      ]
    },
    {
      "cell_type": "markdown",
      "metadata": {
        "id": "kwnhRGhM4tI0"
      },
      "source": [
        "**Chest pain type vs Serum cholestoral:**\r\n",
        "\r\n",
        "*   Healthy Patients have low levels of Cholestrol   \r\n",
        "\r\n",
        "*   Heart disease patients have comparatively high amounts of cholestrol in blood\r\n"
      ]
    },
    {
      "cell_type": "markdown",
      "metadata": {
        "id": "Avhn526z5QG5"
      },
      "source": [
        "**Age vs thal:**\r\n",
        "A blood disorder called thalassemia : Lower levels represent normal and higher levels represented Fixed or reversable defect\r\n",
        "People within age of 40 and 70 have more occurences of thalassemia.\r\n",
        "\r\n",
        "*   Healthy Patients have low values of thalassemia representing normal condition   \r\n",
        "\r\n",
        "*   Heart disease patients have  high values of thalassemia  in blood representing defect\r\n"
      ]
    },
    {
      "cell_type": "markdown",
      "metadata": {
        "id": "UmbUz-0G6gbo"
      },
      "source": [
        "**sex vs CP:**\r\n",
        "\r\n",
        "Chest Pain types 0 and 2 have frequently occured than other chest pain types\r\n",
        "\r\n",
        "*   Both Male and Female have equal Circumstances of Chest Pain 0\r\n",
        "\r\n",
        "*   Chest Pain 2 is more likely to occur in Woman than Men\r\n"
      ]
    },
    {
      "cell_type": "code",
      "metadata": {
        "id": "SEL7JOFVfnfu"
      },
      "source": [
        ""
      ],
      "execution_count": null,
      "outputs": []
    }
  ]
}